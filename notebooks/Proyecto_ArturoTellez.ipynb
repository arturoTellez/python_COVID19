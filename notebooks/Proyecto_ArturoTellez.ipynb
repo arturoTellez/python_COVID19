{
 "cells": [
  {
   "cell_type": "markdown",
   "metadata": {},
   "source": [
    "# Análisis de datos COVID19"
   ]
  },
  {
   "cell_type": "code",
   "execution_count": 117,
   "metadata": {},
   "outputs": [],
   "source": [
    "import pandas as pd\n",
    "import matplotlib.pyplot as plt\n",
    "%matplotlib inline"
   ]
  },
  {
   "cell_type": "code",
   "execution_count": 118,
   "metadata": {},
   "outputs": [
    {
     "data": {
      "text/html": [
       "<div>\n",
       "<style scoped>\n",
       "    .dataframe tbody tr th:only-of-type {\n",
       "        vertical-align: middle;\n",
       "    }\n",
       "\n",
       "    .dataframe tbody tr th {\n",
       "        vertical-align: top;\n",
       "    }\n",
       "\n",
       "    .dataframe thead th {\n",
       "        text-align: right;\n",
       "    }\n",
       "</style>\n",
       "<table border=\"1\" class=\"dataframe\">\n",
       "  <thead>\n",
       "    <tr style=\"text-align: right;\">\n",
       "      <th></th>\n",
       "      <th>FECHA_ACTUALIZACION</th>\n",
       "      <th>ID_REGISTRO</th>\n",
       "      <th>ORIGEN</th>\n",
       "      <th>SECTOR</th>\n",
       "      <th>ENTIDAD_UM</th>\n",
       "      <th>SEXO</th>\n",
       "      <th>ENTIDAD_NAC</th>\n",
       "      <th>ENTIDAD_RES</th>\n",
       "      <th>MUNICIPIO_RES</th>\n",
       "      <th>TIPO_PACIENTE</th>\n",
       "      <th>...</th>\n",
       "      <th>CARDIOVASCULAR</th>\n",
       "      <th>OBESIDAD</th>\n",
       "      <th>RENAL_CRONICA</th>\n",
       "      <th>TABAQUISMO</th>\n",
       "      <th>OTRO_CASO</th>\n",
       "      <th>RESULTADO</th>\n",
       "      <th>MIGRANTE</th>\n",
       "      <th>PAIS_NACIONALIDAD</th>\n",
       "      <th>PAIS_ORIGEN</th>\n",
       "      <th>UCI</th>\n",
       "    </tr>\n",
       "  </thead>\n",
       "  <tbody>\n",
       "    <tr>\n",
       "      <th>0</th>\n",
       "      <td>2020-05-17</td>\n",
       "      <td>098894</td>\n",
       "      <td>2</td>\n",
       "      <td>3</td>\n",
       "      <td>2</td>\n",
       "      <td>2</td>\n",
       "      <td>2</td>\n",
       "      <td>2</td>\n",
       "      <td>2</td>\n",
       "      <td>1</td>\n",
       "      <td>...</td>\n",
       "      <td>1</td>\n",
       "      <td>2</td>\n",
       "      <td>2</td>\n",
       "      <td>2</td>\n",
       "      <td>1</td>\n",
       "      <td>1</td>\n",
       "      <td>99</td>\n",
       "      <td>MÃ©xico</td>\n",
       "      <td>99</td>\n",
       "      <td>97</td>\n",
       "    </tr>\n",
       "    <tr>\n",
       "      <th>1</th>\n",
       "      <td>2020-05-17</td>\n",
       "      <td>0cb732</td>\n",
       "      <td>2</td>\n",
       "      <td>4</td>\n",
       "      <td>9</td>\n",
       "      <td>2</td>\n",
       "      <td>9</td>\n",
       "      <td>15</td>\n",
       "      <td>31</td>\n",
       "      <td>2</td>\n",
       "      <td>...</td>\n",
       "      <td>2</td>\n",
       "      <td>1</td>\n",
       "      <td>2</td>\n",
       "      <td>2</td>\n",
       "      <td>99</td>\n",
       "      <td>1</td>\n",
       "      <td>99</td>\n",
       "      <td>MÃ©xico</td>\n",
       "      <td>99</td>\n",
       "      <td>2</td>\n",
       "    </tr>\n",
       "    <tr>\n",
       "      <th>2</th>\n",
       "      <td>2020-05-17</td>\n",
       "      <td>137359</td>\n",
       "      <td>2</td>\n",
       "      <td>4</td>\n",
       "      <td>2</td>\n",
       "      <td>1</td>\n",
       "      <td>1</td>\n",
       "      <td>2</td>\n",
       "      <td>2</td>\n",
       "      <td>1</td>\n",
       "      <td>...</td>\n",
       "      <td>2</td>\n",
       "      <td>1</td>\n",
       "      <td>2</td>\n",
       "      <td>2</td>\n",
       "      <td>99</td>\n",
       "      <td>1</td>\n",
       "      <td>99</td>\n",
       "      <td>MÃ©xico</td>\n",
       "      <td>99</td>\n",
       "      <td>97</td>\n",
       "    </tr>\n",
       "    <tr>\n",
       "      <th>3</th>\n",
       "      <td>2020-05-17</td>\n",
       "      <td>066f8f</td>\n",
       "      <td>2</td>\n",
       "      <td>4</td>\n",
       "      <td>30</td>\n",
       "      <td>1</td>\n",
       "      <td>21</td>\n",
       "      <td>30</td>\n",
       "      <td>193</td>\n",
       "      <td>2</td>\n",
       "      <td>...</td>\n",
       "      <td>2</td>\n",
       "      <td>2</td>\n",
       "      <td>2</td>\n",
       "      <td>1</td>\n",
       "      <td>99</td>\n",
       "      <td>1</td>\n",
       "      <td>99</td>\n",
       "      <td>MÃ©xico</td>\n",
       "      <td>99</td>\n",
       "      <td>2</td>\n",
       "    </tr>\n",
       "    <tr>\n",
       "      <th>4</th>\n",
       "      <td>2020-05-17</td>\n",
       "      <td>027a23</td>\n",
       "      <td>2</td>\n",
       "      <td>4</td>\n",
       "      <td>9</td>\n",
       "      <td>2</td>\n",
       "      <td>21</td>\n",
       "      <td>9</td>\n",
       "      <td>15</td>\n",
       "      <td>2</td>\n",
       "      <td>...</td>\n",
       "      <td>2</td>\n",
       "      <td>2</td>\n",
       "      <td>2</td>\n",
       "      <td>1</td>\n",
       "      <td>99</td>\n",
       "      <td>1</td>\n",
       "      <td>99</td>\n",
       "      <td>MÃ©xico</td>\n",
       "      <td>99</td>\n",
       "      <td>2</td>\n",
       "    </tr>\n",
       "  </tbody>\n",
       "</table>\n",
       "<p>5 rows × 35 columns</p>\n",
       "</div>"
      ],
      "text/plain": [
       "  FECHA_ACTUALIZACION ID_REGISTRO  ORIGEN  SECTOR  ENTIDAD_UM  SEXO  \\\n",
       "0          2020-05-17      098894       2       3           2     2   \n",
       "1          2020-05-17      0cb732       2       4           9     2   \n",
       "2          2020-05-17      137359       2       4           2     1   \n",
       "3          2020-05-17      066f8f       2       4          30     1   \n",
       "4          2020-05-17      027a23       2       4           9     2   \n",
       "\n",
       "   ENTIDAD_NAC  ENTIDAD_RES  MUNICIPIO_RES  TIPO_PACIENTE  ... CARDIOVASCULAR  \\\n",
       "0            2            2              2              1  ...              1   \n",
       "1            9           15             31              2  ...              2   \n",
       "2            1            2              2              1  ...              2   \n",
       "3           21           30            193              2  ...              2   \n",
       "4           21            9             15              2  ...              2   \n",
       "\n",
       "  OBESIDAD RENAL_CRONICA  TABAQUISMO  OTRO_CASO  RESULTADO  MIGRANTE  \\\n",
       "0        2             2           2          1          1        99   \n",
       "1        1             2           2         99          1        99   \n",
       "2        1             2           2         99          1        99   \n",
       "3        2             2           1         99          1        99   \n",
       "4        2             2           1         99          1        99   \n",
       "\n",
       "   PAIS_NACIONALIDAD  PAIS_ORIGEN  UCI  \n",
       "0            MÃ©xico           99   97  \n",
       "1            MÃ©xico           99    2  \n",
       "2            MÃ©xico           99   97  \n",
       "3            MÃ©xico           99    2  \n",
       "4            MÃ©xico           99    2  \n",
       "\n",
       "[5 rows x 35 columns]"
      ]
     },
     "execution_count": 118,
     "metadata": {},
     "output_type": "execute_result"
    }
   ],
   "source": [
    "datos = pd.read_csv(\"../data/datos_2020-05-17.csv\", encoding = \"latin-1\")\n",
    "datos.head()"
   ]
  },
  {
   "cell_type": "code",
   "execution_count": 119,
   "metadata": {},
   "outputs": [
    {
     "name": "stdout",
     "output_type": "stream",
     "text": [
      "<class 'pandas.core.frame.DataFrame'>\n",
      "RangeIndex: 172294 entries, 0 to 172293\n",
      "Data columns (total 35 columns):\n",
      "FECHA_ACTUALIZACION    172294 non-null object\n",
      "ID_REGISTRO            172294 non-null object\n",
      "ORIGEN                 172294 non-null int64\n",
      "SECTOR                 172294 non-null int64\n",
      "ENTIDAD_UM             172294 non-null int64\n",
      "SEXO                   172294 non-null int64\n",
      "ENTIDAD_NAC            172294 non-null int64\n",
      "ENTIDAD_RES            172294 non-null int64\n",
      "MUNICIPIO_RES          172294 non-null int64\n",
      "TIPO_PACIENTE          172294 non-null int64\n",
      "FECHA_INGRESO          172294 non-null object\n",
      "FECHA_SINTOMAS         172294 non-null object\n",
      "FECHA_DEF              172294 non-null object\n",
      "INTUBADO               172294 non-null int64\n",
      "NEUMONIA               172294 non-null int64\n",
      "EDAD                   172294 non-null int64\n",
      "NACIONALIDAD           172294 non-null int64\n",
      "EMBARAZO               172294 non-null int64\n",
      "HABLA_LENGUA_INDIG     172294 non-null int64\n",
      "DIABETES               172294 non-null int64\n",
      "EPOC                   172294 non-null int64\n",
      "ASMA                   172294 non-null int64\n",
      "INMUSUPR               172294 non-null int64\n",
      "HIPERTENSION           172294 non-null int64\n",
      "OTRA_COM               172294 non-null int64\n",
      "CARDIOVASCULAR         172294 non-null int64\n",
      "OBESIDAD               172294 non-null int64\n",
      "RENAL_CRONICA          172294 non-null int64\n",
      "TABAQUISMO             172294 non-null int64\n",
      "OTRO_CASO              172294 non-null int64\n",
      "RESULTADO              172294 non-null int64\n",
      "MIGRANTE               172294 non-null int64\n",
      "PAIS_NACIONALIDAD      172294 non-null object\n",
      "PAIS_ORIGEN            172294 non-null object\n",
      "UCI                    172294 non-null int64\n",
      "dtypes: int64(28), object(7)\n",
      "memory usage: 46.0+ MB\n"
     ]
    }
   ],
   "source": [
    "datos.info()"
   ]
  },
  {
   "cell_type": "code",
   "execution_count": 120,
   "metadata": {},
   "outputs": [],
   "source": [
    "datos.FECHA_ACTUALIZACION = pd.to_datetime(datos.FECHA_ACTUALIZACION)"
   ]
  },
  {
   "cell_type": "code",
   "execution_count": 121,
   "metadata": {},
   "outputs": [
    {
     "name": "stdout",
     "output_type": "stream",
     "text": [
      "<class 'pandas.core.frame.DataFrame'>\n",
      "RangeIndex: 172294 entries, 0 to 172293\n",
      "Data columns (total 35 columns):\n",
      "FECHA_ACTUALIZACION    172294 non-null datetime64[ns]\n",
      "ID_REGISTRO            172294 non-null object\n",
      "ORIGEN                 172294 non-null int64\n",
      "SECTOR                 172294 non-null int64\n",
      "ENTIDAD_UM             172294 non-null int64\n",
      "SEXO                   172294 non-null int64\n",
      "ENTIDAD_NAC            172294 non-null int64\n",
      "ENTIDAD_RES            172294 non-null int64\n",
      "MUNICIPIO_RES          172294 non-null int64\n",
      "TIPO_PACIENTE          172294 non-null int64\n",
      "FECHA_INGRESO          172294 non-null object\n",
      "FECHA_SINTOMAS         172294 non-null object\n",
      "FECHA_DEF              172294 non-null object\n",
      "INTUBADO               172294 non-null int64\n",
      "NEUMONIA               172294 non-null int64\n",
      "EDAD                   172294 non-null int64\n",
      "NACIONALIDAD           172294 non-null int64\n",
      "EMBARAZO               172294 non-null int64\n",
      "HABLA_LENGUA_INDIG     172294 non-null int64\n",
      "DIABETES               172294 non-null int64\n",
      "EPOC                   172294 non-null int64\n",
      "ASMA                   172294 non-null int64\n",
      "INMUSUPR               172294 non-null int64\n",
      "HIPERTENSION           172294 non-null int64\n",
      "OTRA_COM               172294 non-null int64\n",
      "CARDIOVASCULAR         172294 non-null int64\n",
      "OBESIDAD               172294 non-null int64\n",
      "RENAL_CRONICA          172294 non-null int64\n",
      "TABAQUISMO             172294 non-null int64\n",
      "OTRO_CASO              172294 non-null int64\n",
      "RESULTADO              172294 non-null int64\n",
      "MIGRANTE               172294 non-null int64\n",
      "PAIS_NACIONALIDAD      172294 non-null object\n",
      "PAIS_ORIGEN            172294 non-null object\n",
      "UCI                    172294 non-null int64\n",
      "dtypes: datetime64[ns](1), int64(28), object(6)\n",
      "memory usage: 46.0+ MB\n"
     ]
    }
   ],
   "source": [
    "datos.info()"
   ]
  },
  {
   "cell_type": "code",
   "execution_count": 122,
   "metadata": {},
   "outputs": [
    {
     "data": {
      "text/plain": [
       "count                  172294\n",
       "unique                      1\n",
       "top       2020-05-17 00:00:00\n",
       "freq                   172294\n",
       "first     2020-05-17 00:00:00\n",
       "last      2020-05-17 00:00:00\n",
       "Name: FECHA_ACTUALIZACION, dtype: object"
      ]
     },
     "execution_count": 122,
     "metadata": {},
     "output_type": "execute_result"
    }
   ],
   "source": [
    "datos.FECHA_ACTUALIZACION.describe()"
   ]
  },
  {
   "cell_type": "code",
   "execution_count": 123,
   "metadata": {},
   "outputs": [
    {
     "data": {
      "text/plain": [
       "<matplotlib.axes._subplots.AxesSubplot at 0x7f0c88489550>"
      ]
     },
     "execution_count": 123,
     "metadata": {},
     "output_type": "execute_result"
    },
    {
     "data": {
      "image/png": "[encoded data removed]",
      "text/plain": [
       "<Figure size 432x288 with 1 Axes>"
      ]
     },
     "metadata": {
      "needs_background": "light"
     },
     "output_type": "display_data"
    }
   ],
   "source": [
    "datos.FECHA_ACTUALIZACION.hist()"
   ]
  },
  {
   "cell_type": "code",
   "execution_count": 124,
   "metadata": {},
   "outputs": [
    {
     "name": "stdout",
     "output_type": "stream",
     "text": [
      "<class 'pandas.core.frame.DataFrame'>\n",
      "RangeIndex: 172294 entries, 0 to 172293\n",
      "Data columns (total 35 columns):\n",
      "FECHA_ACTUALIZACION    172294 non-null datetime64[ns]\n",
      "ID_REGISTRO            172294 non-null object\n",
      "ORIGEN                 172294 non-null int64\n",
      "SECTOR                 172294 non-null int64\n",
      "ENTIDAD_UM             172294 non-null int64\n",
      "SEXO                   172294 non-null int64\n",
      "ENTIDAD_NAC            172294 non-null int64\n",
      "ENTIDAD_RES            172294 non-null int64\n",
      "MUNICIPIO_RES          172294 non-null int64\n",
      "TIPO_PACIENTE          172294 non-null int64\n",
      "FECHA_INGRESO          172294 non-null object\n",
      "FECHA_SINTOMAS         172294 non-null datetime64[ns]\n",
      "FECHA_DEF              172294 non-null object\n",
      "INTUBADO               172294 non-null int64\n",
      "NEUMONIA               172294 non-null int64\n",
      "EDAD                   172294 non-null int64\n",
      "NACIONALIDAD           172294 non-null int64\n",
      "EMBARAZO               172294 non-null int64\n",
      "HABLA_LENGUA_INDIG     172294 non-null int64\n",
      "DIABETES               172294 non-null int64\n",
      "EPOC                   172294 non-null int64\n",
      "ASMA                   172294 non-null int64\n",
      "INMUSUPR               172294 non-null int64\n",
      "HIPERTENSION           172294 non-null int64\n",
      "OTRA_COM               172294 non-null int64\n",
      "CARDIOVASCULAR         172294 non-null int64\n",
      "OBESIDAD               172294 non-null int64\n",
      "RENAL_CRONICA          172294 non-null int64\n",
      "TABAQUISMO             172294 non-null int64\n",
      "OTRO_CASO              172294 non-null int64\n",
      "RESULTADO              172294 non-null int64\n",
      "MIGRANTE               172294 non-null int64\n",
      "PAIS_NACIONALIDAD      172294 non-null object\n",
      "PAIS_ORIGEN            172294 non-null object\n",
      "UCI                    172294 non-null int64\n",
      "dtypes: datetime64[ns](2), int64(28), object(5)\n",
      "memory usage: 46.0+ MB\n"
     ]
    }
   ],
   "source": [
    "datos.FECHA_SINTOMAS = pd.to_datetime(datos.FECHA_SINTOMAS)\n",
    "datos.info()"
   ]
  },
  {
   "cell_type": "code",
   "execution_count": 125,
   "metadata": {},
   "outputs": [
    {
     "data": {
      "text/plain": [
       "<matplotlib.axes._subplots.AxesSubplot at 0x7f0c8e0d0668>"
      ]
     },
     "execution_count": 125,
     "metadata": {},
     "output_type": "execute_result"
    },
    {
     "data": {
      "image/png": "[encoded data removed]",
      "text/plain": [
       "<Figure size 432x288 with 1 Axes>"
      ]
     },
     "metadata": {
      "needs_background": "light"
     },
     "output_type": "display_data"
    }
   ],
   "source": [
    "datos.FECHA_SINTOMAS.hist(bins = 50)"
   ]
  },
  {
   "cell_type": "code",
   "execution_count": 126,
   "metadata": {},
   "outputs": [
    {
     "data": {
      "text/plain": [
       "count                  172294\n",
       "unique                    138\n",
       "top       2020-05-01 00:00:00\n",
       "freq                     6053\n",
       "first     2020-01-01 00:00:00\n",
       "last      2020-05-17 00:00:00\n",
       "Name: FECHA_SINTOMAS, dtype: object"
      ]
     },
     "execution_count": 126,
     "metadata": {},
     "output_type": "execute_result"
    }
   ],
   "source": [
    "datos.FECHA_SINTOMAS.describe()"
   ]
  },
  {
   "cell_type": "code",
   "execution_count": 127,
   "metadata": {},
   "outputs": [
    {
     "data": {
      "text/plain": [
       "Index(['FECHA_ACTUALIZACION', 'ID_REGISTRO', 'ORIGEN', 'SECTOR', 'ENTIDAD_UM',\n",
       "       'SEXO', 'ENTIDAD_NAC', 'ENTIDAD_RES', 'MUNICIPIO_RES', 'TIPO_PACIENTE',\n",
       "       'FECHA_INGRESO', 'FECHA_SINTOMAS', 'FECHA_DEF', 'INTUBADO', 'NEUMONIA',\n",
       "       'EDAD', 'NACIONALIDAD', 'EMBARAZO', 'HABLA_LENGUA_INDIG', 'DIABETES',\n",
       "       'EPOC', 'ASMA', 'INMUSUPR', 'HIPERTENSION', 'OTRA_COM',\n",
       "       'CARDIOVASCULAR', 'OBESIDAD', 'RENAL_CRONICA', 'TABAQUISMO',\n",
       "       'OTRO_CASO', 'RESULTADO', 'MIGRANTE', 'PAIS_NACIONALIDAD',\n",
       "       'PAIS_ORIGEN', 'UCI'],\n",
       "      dtype='object')"
      ]
     },
     "execution_count": 127,
     "metadata": {},
     "output_type": "execute_result"
    }
   ],
   "source": [
    "datos.columns"
   ]
  },
  {
   "cell_type": "code",
   "execution_count": 128,
   "metadata": {},
   "outputs": [
    {
     "data": {
      "text/html": [
       "<div>\n",
       "<style scoped>\n",
       "    .dataframe tbody tr th:only-of-type {\n",
       "        vertical-align: middle;\n",
       "    }\n",
       "\n",
       "    .dataframe tbody tr th {\n",
       "        vertical-align: top;\n",
       "    }\n",
       "\n",
       "    .dataframe thead th {\n",
       "        text-align: right;\n",
       "    }\n",
       "</style>\n",
       "<table border=\"1\" class=\"dataframe\">\n",
       "  <thead>\n",
       "    <tr style=\"text-align: right;\">\n",
       "      <th></th>\n",
       "      <th>FECHA_ACTUALIZACION</th>\n",
       "    </tr>\n",
       "    <tr>\n",
       "      <th>RESULTADO</th>\n",
       "      <th></th>\n",
       "    </tr>\n",
       "  </thead>\n",
       "  <tbody>\n",
       "    <tr>\n",
       "      <th>1</th>\n",
       "      <td>49219</td>\n",
       "    </tr>\n",
       "    <tr>\n",
       "      <th>2</th>\n",
       "      <td>95568</td>\n",
       "    </tr>\n",
       "    <tr>\n",
       "      <th>3</th>\n",
       "      <td>27507</td>\n",
       "    </tr>\n",
       "  </tbody>\n",
       "</table>\n",
       "</div>"
      ],
      "text/plain": [
       "           FECHA_ACTUALIZACION\n",
       "RESULTADO                     \n",
       "1                        49219\n",
       "2                        95568\n",
       "3                        27507"
      ]
     },
     "execution_count": 128,
     "metadata": {},
     "output_type": "execute_result"
    }
   ],
   "source": [
    "datos[[\"FECHA_ACTUALIZACION\", \"RESULTADO\"]].groupby(\"RESULTADO\").count()"
   ]
  },
  {
   "cell_type": "code",
   "execution_count": 129,
   "metadata": {},
   "outputs": [
    {
     "data": {
      "text/plain": [
       "<matplotlib.axes._subplots.AxesSubplot at 0x7f0c888ca630>"
      ]
     },
     "execution_count": 129,
     "metadata": {},
     "output_type": "execute_result"
    },
    {
     "data": {
      "image/png": "[encoded data removed]",
      "text/plain": [
       "<Figure size 432x288 with 1 Axes>"
      ]
     },
     "metadata": {
      "needs_background": "light"
     },
     "output_type": "display_data"
    }
   ],
   "source": [
    "datos.RESULTADO.value_counts().plot.bar()"
   ]
  },
  {
   "cell_type": "code",
   "execution_count": 130,
   "metadata": {},
   "outputs": [
    {
     "data": {
      "text/plain": [
       "<matplotlib.axes._subplots.AxesSubplot at 0x7f0c88a7d908>"
      ]
     },
     "execution_count": 130,
     "metadata": {},
     "output_type": "execute_result"
    },
    {
     "data": {
      "image/png": "[encoded data removed]",
      "text/plain": [
       "<Figure size 432x288 with 1 Axes>"
      ]
     },
     "metadata": {},
     "output_type": "display_data"
    }
   ],
   "source": [
    "datos.RESULTADO.value_counts(sort = False).plot.pie()"
   ]
  },
  {
   "cell_type": "code",
   "execution_count": 131,
   "metadata": {},
   "outputs": [
    {
     "data": {
      "text/plain": [
       "<matplotlib.axes._subplots.AxesSubplot at 0x7f0c88406198>"
      ]
     },
     "execution_count": 131,
     "metadata": {},
     "output_type": "execute_result"
    },
    {
     "data": {
      "image/png": "[encoded data removed]",
      "text/plain": [
       "<Figure size 432x288 with 1 Axes>"
      ]
     },
     "metadata": {
      "needs_background": "light"
     },
     "output_type": "display_data"
    }
   ],
   "source": [
    "datos.RESULTADO.value_counts(sort = False, normalize = True).plot()"
   ]
  },
  {
   "cell_type": "code",
   "execution_count": 132,
   "metadata": {},
   "outputs": [],
   "source": [
    "def graficar(df, columna):\n",
    "    plt.title(\"Ponderación de \" + columna)\n",
    "    datos[columna].value_counts(sort = False).plot.pie()"
   ]
  },
  {
   "cell_type": "code",
   "execution_count": 133,
   "metadata": {},
   "outputs": [
    {
     "data": {
      "image/png": "[encoded data removed]",
      "text/plain": [
       "<Figure size 432x288 with 1 Axes>"
      ]
     },
     "metadata": {},
     "output_type": "display_data"
    }
   ],
   "source": [
    "graficar(datos, \"RESULTADO\")"
   ]
  },
  {
   "cell_type": "code",
   "execution_count": 134,
   "metadata": {},
   "outputs": [
    {
     "data": {
      "image/png": "[encoded data removed]",
      "text/plain": [
       "<Figure size 432x288 with 1 Axes>"
      ]
     },
     "metadata": {},
     "output_type": "display_data"
    }
   ],
   "source": [
    "graficar(datos, \"ENTIDAD_UM\")"
   ]
  },
  {
   "cell_type": "code",
   "execution_count": 135,
   "metadata": {},
   "outputs": [
    {
     "data": {
      "text/plain": [
       "<matplotlib.axes._subplots.AxesSubplot at 0x7f0c8dca98d0>"
      ]
     },
     "execution_count": 135,
     "metadata": {},
     "output_type": "execute_result"
    },
    {
     "data": {
      "image/png": "[encoded data removed]",
      "text/plain": [
       "<Figure size 432x288 with 1 Axes>"
      ]
     },
     "metadata": {
      "needs_background": "light"
     },
     "output_type": "display_data"
    }
   ],
   "source": [
    "datos.EDAD.hist(bins = 50)"
   ]
  },
  {
   "cell_type": "code",
   "execution_count": 166,
   "metadata": {},
   "outputs": [
    {
     "data": {
      "text/plain": [
       "nan"
      ]
     },
     "execution_count": 166,
     "metadata": {},
     "output_type": "execute_result"
    }
   ],
   "source": []
  },
  {
   "cell_type": "code",
   "execution_count": 169,
   "metadata": {},
   "outputs": [
    {
     "name": "stderr",
     "output_type": "stream",
     "text": [
      "/home/a_tellez/virtualenvs/python3/lib/python3.6/site-packages/numpy/lib/histograms.py:824: RuntimeWarning: invalid value encountered in greater_equal\n",
      "  keep = (tmp_a >= first_edge)\n",
      "/home/a_tellez/virtualenvs/python3/lib/python3.6/site-packages/numpy/lib/histograms.py:825: RuntimeWarning: invalid value encountered in less_equal\n",
      "  keep &= (tmp_a <= last_edge)\n"
     ]
    },
    {
     "data": {
      "image/png": "[encoded data removed]",
      "text/plain": [
       "<Figure size 432x288 with 1 Axes>"
      ]
     },
     "metadata": {
      "needs_background": "light"
     },
     "output_type": "display_data"
    }
   ],
   "source": [
    "import numpy as np\n",
    "from scipy.stats import norm\n",
    "import matplotlib.pyplot as plt\n",
    "import numpy as np\n",
    "\n",
    "mu, std = np.mean(datos.EDAD), np.std(datos.EDAD)\n",
    "\n",
    "plt.hist(datos.EDAD, bins=25, density=True, alpha=0.6, color='g')\n",
    "\n",
    "# Plot the PDF.\n",
    "xmin, xmax = plt.xlim()\n",
    "x = np.linspace(xmin, xmax, 100)\n",
    "p = norm.pdf(x, mu, std)\n",
    "plt.plot(x, p, 'k', linewidth=2)\n",
    "title = \"Fit results: mu = %.2f,  std = %.2f\" % (mu, std)\n",
    "plt.title(title)\n",
    "\n",
    "plt.show()"
   ]
  },
  {
   "cell_type": "code",
   "execution_count": 137,
   "metadata": {},
   "outputs": [
    {
     "data": {
      "text/plain": [
       "['Catálogo ORIGEN',\n",
       " 'Catálogo SECTOR',\n",
       " 'Catálogo SEXO',\n",
       " 'Catálogo TIPO_PACIENTE',\n",
       " 'Catálogo SI_NO',\n",
       " 'Catálogo NACIONALIDAD',\n",
       " 'Catálogo RESULTADO',\n",
       " 'Catálogo de ENTIDADES',\n",
       " 'Catálogo MUNICIPIOS']"
      ]
     },
     "execution_count": 137,
     "metadata": {},
     "output_type": "execute_result"
    }
   ],
   "source": [
    "xl = pd.ExcelFile('../data/catalogo_2020-05-17.xlsx')\n",
    "\n",
    "xl.sheet_names  \n",
    "\n",
    "#xl.parse(sheet_name)"
   ]
  },
  {
   "cell_type": "code",
   "execution_count": 138,
   "metadata": {},
   "outputs": [
    {
     "name": "stdout",
     "output_type": "stream",
     "text": [
      "Catálogo ORIGEN\n",
      "Catálogo SECTOR\n",
      "Catálogo SEXO\n",
      "Catálogo TIPO_PACIENTE\n",
      "Catálogo SI_NO\n",
      "Catálogo NACIONALIDAD\n",
      "Catálogo RESULTADO\n",
      "Catálogo de ENTIDADES\n",
      "Catálogo MUNICIPIOS\n"
     ]
    }
   ],
   "source": [
    "dict_catalogo = {}\n",
    "for hoja in xl.sheet_names:\n",
    "    if \"Catálogo RESULTADO\" == hoja:\n",
    "        dict_catalogo[hoja] = pd.read_excel('../data/catalogo_2020-05-17.xlsx', sheet_name=hoja, skiprows=1)\n",
    "    else:\n",
    "        dict_catalogo[hoja] = pd.read_excel('../data/catalogo_2020-05-17.xlsx', sheet_name=hoja)\n",
    "    print(hoja)"
   ]
  },
  {
   "cell_type": "code",
   "execution_count": 139,
   "metadata": {},
   "outputs": [
    {
     "data": {
      "text/html": [
       "<div>\n",
       "<style scoped>\n",
       "    .dataframe tbody tr th:only-of-type {\n",
       "        vertical-align: middle;\n",
       "    }\n",
       "\n",
       "    .dataframe tbody tr th {\n",
       "        vertical-align: top;\n",
       "    }\n",
       "\n",
       "    .dataframe thead th {\n",
       "        text-align: right;\n",
       "    }\n",
       "</style>\n",
       "<table border=\"1\" class=\"dataframe\">\n",
       "  <thead>\n",
       "    <tr style=\"text-align: right;\">\n",
       "      <th></th>\n",
       "      <th>CLAVE</th>\n",
       "      <th>DESCRIPCIÓN</th>\n",
       "    </tr>\n",
       "  </thead>\n",
       "  <tbody>\n",
       "    <tr>\n",
       "      <th>0</th>\n",
       "      <td>1</td>\n",
       "      <td>USMER</td>\n",
       "    </tr>\n",
       "    <tr>\n",
       "      <th>1</th>\n",
       "      <td>2</td>\n",
       "      <td>FUERA DE USMER</td>\n",
       "    </tr>\n",
       "    <tr>\n",
       "      <th>2</th>\n",
       "      <td>99</td>\n",
       "      <td>NO ESPECIFICADO</td>\n",
       "    </tr>\n",
       "  </tbody>\n",
       "</table>\n",
       "</div>"
      ],
      "text/plain": [
       "   CLAVE      DESCRIPCIÓN\n",
       "0      1            USMER\n",
       "1      2   FUERA DE USMER\n",
       "2     99  NO ESPECIFICADO"
      ]
     },
     "execution_count": 139,
     "metadata": {},
     "output_type": "execute_result"
    }
   ],
   "source": [
    "dict_catalogo[\"Catálogo ORIGEN\"]"
   ]
  },
  {
   "cell_type": "code",
   "execution_count": 140,
   "metadata": {},
   "outputs": [
    {
     "data": {
      "text/html": [
       "<div>\n",
       "<style scoped>\n",
       "    .dataframe tbody tr th:only-of-type {\n",
       "        vertical-align: middle;\n",
       "    }\n",
       "\n",
       "    .dataframe tbody tr th {\n",
       "        vertical-align: top;\n",
       "    }\n",
       "\n",
       "    .dataframe thead th {\n",
       "        text-align: right;\n",
       "    }\n",
       "</style>\n",
       "<table border=\"1\" class=\"dataframe\">\n",
       "  <thead>\n",
       "    <tr style=\"text-align: right;\">\n",
       "      <th></th>\n",
       "      <th>CLAVE</th>\n",
       "      <th>DESCRIPCIÓN</th>\n",
       "    </tr>\n",
       "  </thead>\n",
       "  <tbody>\n",
       "    <tr>\n",
       "      <th>0</th>\n",
       "      <td>1</td>\n",
       "      <td>Positivo SARS-CoV-2</td>\n",
       "    </tr>\n",
       "    <tr>\n",
       "      <th>1</th>\n",
       "      <td>2</td>\n",
       "      <td>No positivo SARS-CoV-2</td>\n",
       "    </tr>\n",
       "    <tr>\n",
       "      <th>2</th>\n",
       "      <td>3</td>\n",
       "      <td>Resultado pendiente</td>\n",
       "    </tr>\n",
       "  </tbody>\n",
       "</table>\n",
       "</div>"
      ],
      "text/plain": [
       "   CLAVE             DESCRIPCIÓN\n",
       "0      1     Positivo SARS-CoV-2\n",
       "1      2  No positivo SARS-CoV-2\n",
       "2      3     Resultado pendiente"
      ]
     },
     "execution_count": 140,
     "metadata": {},
     "output_type": "execute_result"
    }
   ],
   "source": [
    "dict_catalogo[\"Catálogo RESULTADO\"]"
   ]
  },
  {
   "cell_type": "code",
   "execution_count": 141,
   "metadata": {},
   "outputs": [
    {
     "data": {
      "text/plain": [
       "Index(['FECHA_ACTUALIZACION', 'ID_REGISTRO', 'ORIGEN', 'SECTOR', 'ENTIDAD_UM',\n",
       "       'SEXO', 'ENTIDAD_NAC', 'ENTIDAD_RES', 'MUNICIPIO_RES', 'TIPO_PACIENTE',\n",
       "       'FECHA_INGRESO', 'FECHA_SINTOMAS', 'FECHA_DEF', 'INTUBADO', 'NEUMONIA',\n",
       "       'EDAD', 'NACIONALIDAD', 'EMBARAZO', 'HABLA_LENGUA_INDIG', 'DIABETES',\n",
       "       'EPOC', 'ASMA', 'INMUSUPR', 'HIPERTENSION', 'OTRA_COM',\n",
       "       'CARDIOVASCULAR', 'OBESIDAD', 'RENAL_CRONICA', 'TABAQUISMO',\n",
       "       'OTRO_CASO', 'RESULTADO', 'MIGRANTE', 'PAIS_NACIONALIDAD',\n",
       "       'PAIS_ORIGEN', 'UCI'],\n",
       "      dtype='object')"
      ]
     },
     "execution_count": 141,
     "metadata": {},
     "output_type": "execute_result"
    }
   ],
   "source": [
    "datos.columns"
   ]
  },
  {
   "cell_type": "code",
   "execution_count": 142,
   "metadata": {},
   "outputs": [
    {
     "data": {
      "text/plain": [
       "(172294, 35)"
      ]
     },
     "execution_count": 142,
     "metadata": {},
     "output_type": "execute_result"
    }
   ],
   "source": [
    "datos.shape"
   ]
  },
  {
   "cell_type": "code",
   "execution_count": 143,
   "metadata": {},
   "outputs": [],
   "source": [
    "datos = pd.merge(datos, dict_catalogo[\"Catálogo RESULTADO\"], left_on=\"RESULTADO\", right_on=\"CLAVE\")"
   ]
  },
  {
   "cell_type": "code",
   "execution_count": 144,
   "metadata": {},
   "outputs": [
    {
     "data": {
      "image/png": "[encoded data removed]",
      "text/plain": [
       "<Figure size 432x288 with 1 Axes>"
      ]
     },
     "metadata": {},
     "output_type": "display_data"
    }
   ],
   "source": [
    "graficar(datos, \"DESCRIPCIÓN\")"
   ]
  },
  {
   "cell_type": "code",
   "execution_count": 145,
   "metadata": {},
   "outputs": [
    {
     "data": {
      "text/plain": [
       "<matplotlib.axes._subplots.AxesSubplot at 0x7f0c8df83eb8>"
      ]
     },
     "execution_count": 145,
     "metadata": {},
     "output_type": "execute_result"
    },
    {
     "data": {
      "image/png": "[encoded data removed]",
      "text/plain": [
       "<Figure size 432x288 with 1 Axes>"
      ]
     },
     "metadata": {
      "needs_background": "light"
     },
     "output_type": "display_data"
    }
   ],
   "source": [
    "datos[\"DESCRIPCIÓN\"].value_counts().plot.bar()"
   ]
  },
  {
   "cell_type": "code",
   "execution_count": 146,
   "metadata": {},
   "outputs": [
    {
     "data": {
      "text/plain": [
       "No positivo SARS-CoV-2    95568\n",
       "Positivo SARS-CoV-2       49219\n",
       "Resultado pendiente       27507\n",
       "Name: DESCRIPCIÓN, dtype: int64"
      ]
     },
     "execution_count": 146,
     "metadata": {},
     "output_type": "execute_result"
    }
   ],
   "source": [
    "datos[\"DESCRIPCIÓN\"].value_counts()"
   ]
  },
  {
   "cell_type": "code",
   "execution_count": 147,
   "metadata": {},
   "outputs": [],
   "source": [
    "df_auxiliar = pd.read_excel(\"../data/metadatos2020-05-17.xlsx\", index_col=0)"
   ]
  },
  {
   "cell_type": "code",
   "execution_count": 148,
   "metadata": {},
   "outputs": [
    {
     "data": {
      "text/html": [
       "<div>\n",
       "<style scoped>\n",
       "    .dataframe tbody tr th:only-of-type {\n",
       "        vertical-align: middle;\n",
       "    }\n",
       "\n",
       "    .dataframe tbody tr th {\n",
       "        vertical-align: top;\n",
       "    }\n",
       "\n",
       "    .dataframe thead th {\n",
       "        text-align: right;\n",
       "    }\n",
       "</style>\n",
       "<table border=\"1\" class=\"dataframe\">\n",
       "  <thead>\n",
       "    <tr style=\"text-align: right;\">\n",
       "      <th></th>\n",
       "      <th>NOMBRE DE VARIABLE</th>\n",
       "      <th>DESCRIPCIÓN DE VARIABLE</th>\n",
       "      <th>FORMATO O FUENTE</th>\n",
       "    </tr>\n",
       "    <tr>\n",
       "      <th>Nº</th>\n",
       "      <th></th>\n",
       "      <th></th>\n",
       "      <th></th>\n",
       "    </tr>\n",
       "  </thead>\n",
       "  <tbody>\n",
       "    <tr>\n",
       "      <th>1</th>\n",
       "      <td>FECHA_ACTUALIZACION</td>\n",
       "      <td>La base de datos se alimenta diariamente, esta...</td>\n",
       "      <td>AAAA-MM-DD</td>\n",
       "    </tr>\n",
       "    <tr>\n",
       "      <th>2</th>\n",
       "      <td>ID_REGISTRO</td>\n",
       "      <td>Número identificador del caso</td>\n",
       "      <td>TEXTO</td>\n",
       "    </tr>\n",
       "    <tr>\n",
       "      <th>3</th>\n",
       "      <td>ORIGEN</td>\n",
       "      <td>La vigilancia centinela se realiza a través de...</td>\n",
       "      <td>CATÁLOGO: ORIGEN                              ...</td>\n",
       "    </tr>\n",
       "    <tr>\n",
       "      <th>4</th>\n",
       "      <td>SECTOR</td>\n",
       "      <td>Identifica el tipo de institución del Sistema ...</td>\n",
       "      <td>CATÁLOGO: SECTOR                              ...</td>\n",
       "    </tr>\n",
       "    <tr>\n",
       "      <th>5</th>\n",
       "      <td>ENTIDAD_UM</td>\n",
       "      <td>Identifica la entidad donde se ubica la unidad...</td>\n",
       "      <td>CATALÓGO: ENTIDADES</td>\n",
       "    </tr>\n",
       "    <tr>\n",
       "      <th>6</th>\n",
       "      <td>SEXO</td>\n",
       "      <td>Identifica al sexo del paciente.</td>\n",
       "      <td>CATÁLOGO: SEXO</td>\n",
       "    </tr>\n",
       "    <tr>\n",
       "      <th>7</th>\n",
       "      <td>ENTIDAD_NAC</td>\n",
       "      <td>Identifica la entidad de nacimiento del paciente.</td>\n",
       "      <td>CATALÓGO: ENTIDADES</td>\n",
       "    </tr>\n",
       "    <tr>\n",
       "      <th>8</th>\n",
       "      <td>ENTIDAD_RES</td>\n",
       "      <td>Identifica la entidad de residencia del paciente.</td>\n",
       "      <td>CATALÓGO: ENTIDADES</td>\n",
       "    </tr>\n",
       "    <tr>\n",
       "      <th>9</th>\n",
       "      <td>MUNICIPIO_RES</td>\n",
       "      <td>Identifica el municipio de residencia del paci...</td>\n",
       "      <td>CATALÓGO: MUNICIPIOS</td>\n",
       "    </tr>\n",
       "    <tr>\n",
       "      <th>10</th>\n",
       "      <td>TIPO_PACIENTE</td>\n",
       "      <td>Identifica el tipo de atención que recibió el ...</td>\n",
       "      <td>CATÁLOGO: TIPO_PACIENTE</td>\n",
       "    </tr>\n",
       "    <tr>\n",
       "      <th>11</th>\n",
       "      <td>FECHA_INGRESO</td>\n",
       "      <td>Identifica la fecha de ingreso del paciente a ...</td>\n",
       "      <td>AAAA-MM-DD</td>\n",
       "    </tr>\n",
       "    <tr>\n",
       "      <th>12</th>\n",
       "      <td>FECHA_SINTOMAS</td>\n",
       "      <td>Idenitifica la fecha en que inició la sintomat...</td>\n",
       "      <td>AAAA-MM-DD</td>\n",
       "    </tr>\n",
       "    <tr>\n",
       "      <th>13</th>\n",
       "      <td>FECHA_DEF</td>\n",
       "      <td>Identifica la fecha en que el paciente falleció.</td>\n",
       "      <td>AAAA-MM-DD</td>\n",
       "    </tr>\n",
       "    <tr>\n",
       "      <th>14</th>\n",
       "      <td>INTUBADO</td>\n",
       "      <td>Identifica si el paciente requirió de intubación.</td>\n",
       "      <td>CATÁLOGO: SI_ NO                              ...</td>\n",
       "    </tr>\n",
       "    <tr>\n",
       "      <th>15</th>\n",
       "      <td>NEUMONIA</td>\n",
       "      <td>Identifica si al paciente se le diagnosticó co...</td>\n",
       "      <td>CATÁLOGO: SI_ NO                              ...</td>\n",
       "    </tr>\n",
       "    <tr>\n",
       "      <th>16</th>\n",
       "      <td>EDAD</td>\n",
       "      <td>Identifica la edad del paciente.</td>\n",
       "      <td>NÚMERICA EN AÑOS</td>\n",
       "    </tr>\n",
       "    <tr>\n",
       "      <th>17</th>\n",
       "      <td>NACIONALIDAD</td>\n",
       "      <td>Identifica si el paciente es mexicano o extran...</td>\n",
       "      <td>CATÁLOGO: NACIONALIDAD</td>\n",
       "    </tr>\n",
       "    <tr>\n",
       "      <th>18</th>\n",
       "      <td>EMBARAZO</td>\n",
       "      <td>Identifica si la paciente está embarazada.</td>\n",
       "      <td>CATÁLOGO: SI_ NO                              ...</td>\n",
       "    </tr>\n",
       "    <tr>\n",
       "      <th>19</th>\n",
       "      <td>HABLA_LENGUA_INDIG</td>\n",
       "      <td>Identifica si el paciente habla lengua índigena.</td>\n",
       "      <td>CATÁLOGO: SI_ NO                              ...</td>\n",
       "    </tr>\n",
       "    <tr>\n",
       "      <th>20</th>\n",
       "      <td>DIABETES</td>\n",
       "      <td>Identifica si el paciente tiene un diagnóstico...</td>\n",
       "      <td>CATÁLOGO: SI_ NO                              ...</td>\n",
       "    </tr>\n",
       "    <tr>\n",
       "      <th>21</th>\n",
       "      <td>EPOC</td>\n",
       "      <td>Identifica si el paciente tiene un diagnóstico...</td>\n",
       "      <td>CATÁLOGO: SI_ NO                              ...</td>\n",
       "    </tr>\n",
       "    <tr>\n",
       "      <th>22</th>\n",
       "      <td>ASMA</td>\n",
       "      <td>Identifica si el paciente tiene un diagnóstico...</td>\n",
       "      <td>CATÁLOGO: SI_ NO                              ...</td>\n",
       "    </tr>\n",
       "    <tr>\n",
       "      <th>23</th>\n",
       "      <td>INMUSUPR</td>\n",
       "      <td>Identifica si el paciente presenta inmunosupre...</td>\n",
       "      <td>CATÁLOGO: SI_ NO                              ...</td>\n",
       "    </tr>\n",
       "    <tr>\n",
       "      <th>24</th>\n",
       "      <td>HIPERTENSION</td>\n",
       "      <td>Identifica si el paciente tiene un diagnóstico...</td>\n",
       "      <td>CATÁLOGO: SI_ NO                              ...</td>\n",
       "    </tr>\n",
       "    <tr>\n",
       "      <th>25</th>\n",
       "      <td>OTRAS_COM</td>\n",
       "      <td>Identifica si el paciente tiene diagnóstico de...</td>\n",
       "      <td>CATÁLOGO: SI_ NO                              ...</td>\n",
       "    </tr>\n",
       "    <tr>\n",
       "      <th>26</th>\n",
       "      <td>CARDIOVASCULAR</td>\n",
       "      <td>Identifica si el paciente tiene un diagnóstico...</td>\n",
       "      <td>CATÁLOGO: SI_ NO                              ...</td>\n",
       "    </tr>\n",
       "    <tr>\n",
       "      <th>27</th>\n",
       "      <td>OBESIDAD</td>\n",
       "      <td>Identifica si el paciente tiene diagnóstico de...</td>\n",
       "      <td>CATÁLOGO: SI_ NO                              ...</td>\n",
       "    </tr>\n",
       "    <tr>\n",
       "      <th>28</th>\n",
       "      <td>RENAL_CRONICA</td>\n",
       "      <td>Identifica si el paciente tiene diagnóstico de...</td>\n",
       "      <td>CATÁLOGO: SI_ NO                              ...</td>\n",
       "    </tr>\n",
       "    <tr>\n",
       "      <th>29</th>\n",
       "      <td>TABAQUISMO</td>\n",
       "      <td>Identifica si el paciente tiene hábito de taba...</td>\n",
       "      <td>CATÁLOGO: SI_ NO                              ...</td>\n",
       "    </tr>\n",
       "    <tr>\n",
       "      <th>30</th>\n",
       "      <td>OTRO_CASO</td>\n",
       "      <td>Identifica si el paciente tuvo contacto con al...</td>\n",
       "      <td>CATÁLOGO: SI_ NO                              ...</td>\n",
       "    </tr>\n",
       "    <tr>\n",
       "      <th>31</th>\n",
       "      <td>RESULTADO</td>\n",
       "      <td>Identifica el resultado del análisis de la mue...</td>\n",
       "      <td>CATÁLOGO: RESULTADO</td>\n",
       "    </tr>\n",
       "    <tr>\n",
       "      <th>32</th>\n",
       "      <td>MIGRANTE</td>\n",
       "      <td>Identifica si el paciente es una persona migra...</td>\n",
       "      <td>CATÁLOGO: SI_ NO                              ...</td>\n",
       "    </tr>\n",
       "    <tr>\n",
       "      <th>33</th>\n",
       "      <td>PAIS_NACIONALIDAD</td>\n",
       "      <td>Identifica la nacionalidad del paciente.</td>\n",
       "      <td>TEXTO, 99= SE IGNORA</td>\n",
       "    </tr>\n",
       "    <tr>\n",
       "      <th>34</th>\n",
       "      <td>PAIS_ORIGEN</td>\n",
       "      <td>Identifica el país del que partió el paciente ...</td>\n",
       "      <td>TEXTO, 97= NO APLICA</td>\n",
       "    </tr>\n",
       "    <tr>\n",
       "      <th>35</th>\n",
       "      <td>UCI</td>\n",
       "      <td>Identifica si el paciente requirió ingresar a ...</td>\n",
       "      <td>CATÁLOGO: SI_ NO                              ...</td>\n",
       "    </tr>\n",
       "  </tbody>\n",
       "</table>\n",
       "</div>"
      ],
      "text/plain": [
       "     NOMBRE DE VARIABLE                            DESCRIPCIÓN DE VARIABLE  \\\n",
       "Nº                                                                           \n",
       "1   FECHA_ACTUALIZACION  La base de datos se alimenta diariamente, esta...   \n",
       "2           ID_REGISTRO                      Número identificador del caso   \n",
       "3                ORIGEN  La vigilancia centinela se realiza a través de...   \n",
       "4                SECTOR  Identifica el tipo de institución del Sistema ...   \n",
       "5            ENTIDAD_UM  Identifica la entidad donde se ubica la unidad...   \n",
       "6                  SEXO                   Identifica al sexo del paciente.   \n",
       "7           ENTIDAD_NAC  Identifica la entidad de nacimiento del paciente.   \n",
       "8           ENTIDAD_RES  Identifica la entidad de residencia del paciente.   \n",
       "9         MUNICIPIO_RES  Identifica el municipio de residencia del paci...   \n",
       "10        TIPO_PACIENTE  Identifica el tipo de atención que recibió el ...   \n",
       "11        FECHA_INGRESO  Identifica la fecha de ingreso del paciente a ...   \n",
       "12       FECHA_SINTOMAS  Idenitifica la fecha en que inició la sintomat...   \n",
       "13            FECHA_DEF   Identifica la fecha en que el paciente falleció.   \n",
       "14             INTUBADO  Identifica si el paciente requirió de intubación.   \n",
       "15             NEUMONIA  Identifica si al paciente se le diagnosticó co...   \n",
       "16                 EDAD                   Identifica la edad del paciente.   \n",
       "17         NACIONALIDAD  Identifica si el paciente es mexicano o extran...   \n",
       "18             EMBARAZO         Identifica si la paciente está embarazada.   \n",
       "19   HABLA_LENGUA_INDIG   Identifica si el paciente habla lengua índigena.   \n",
       "20             DIABETES  Identifica si el paciente tiene un diagnóstico...   \n",
       "21                 EPOC  Identifica si el paciente tiene un diagnóstico...   \n",
       "22                 ASMA  Identifica si el paciente tiene un diagnóstico...   \n",
       "23             INMUSUPR  Identifica si el paciente presenta inmunosupre...   \n",
       "24         HIPERTENSION  Identifica si el paciente tiene un diagnóstico...   \n",
       "25            OTRAS_COM  Identifica si el paciente tiene diagnóstico de...   \n",
       "26       CARDIOVASCULAR  Identifica si el paciente tiene un diagnóstico...   \n",
       "27             OBESIDAD  Identifica si el paciente tiene diagnóstico de...   \n",
       "28        RENAL_CRONICA  Identifica si el paciente tiene diagnóstico de...   \n",
       "29           TABAQUISMO  Identifica si el paciente tiene hábito de taba...   \n",
       "30            OTRO_CASO  Identifica si el paciente tuvo contacto con al...   \n",
       "31            RESULTADO  Identifica el resultado del análisis de la mue...   \n",
       "32             MIGRANTE  Identifica si el paciente es una persona migra...   \n",
       "33    PAIS_NACIONALIDAD           Identifica la nacionalidad del paciente.   \n",
       "34          PAIS_ORIGEN  Identifica el país del que partió el paciente ...   \n",
       "35                  UCI  Identifica si el paciente requirió ingresar a ...   \n",
       "\n",
       "                                     FORMATO O FUENTE  \n",
       "Nº                                                     \n",
       "1                                          AAAA-MM-DD  \n",
       "2                                              TEXTO   \n",
       "3   CATÁLOGO: ORIGEN                              ...  \n",
       "4   CATÁLOGO: SECTOR                              ...  \n",
       "5                                 CATALÓGO: ENTIDADES  \n",
       "6        CATÁLOGO: SEXO                                \n",
       "7                                 CATALÓGO: ENTIDADES  \n",
       "8                                 CATALÓGO: ENTIDADES  \n",
       "9                                CATALÓGO: MUNICIPIOS  \n",
       "10                           CATÁLOGO: TIPO_PACIENTE   \n",
       "11                                         AAAA-MM-DD  \n",
       "12                                         AAAA-MM-DD  \n",
       "13                                         AAAA-MM-DD  \n",
       "14  CATÁLOGO: SI_ NO                              ...  \n",
       "15  CATÁLOGO: SI_ NO                              ...  \n",
       "16                                   NÚMERICA EN AÑOS  \n",
       "17                            CATÁLOGO: NACIONALIDAD   \n",
       "18  CATÁLOGO: SI_ NO                              ...  \n",
       "19  CATÁLOGO: SI_ NO                              ...  \n",
       "20  CATÁLOGO: SI_ NO                              ...  \n",
       "21  CATÁLOGO: SI_ NO                              ...  \n",
       "22  CATÁLOGO: SI_ NO                              ...  \n",
       "23  CATÁLOGO: SI_ NO                              ...  \n",
       "24  CATÁLOGO: SI_ NO                              ...  \n",
       "25  CATÁLOGO: SI_ NO                              ...  \n",
       "26  CATÁLOGO: SI_ NO                              ...  \n",
       "27  CATÁLOGO: SI_ NO                              ...  \n",
       "28  CATÁLOGO: SI_ NO                              ...  \n",
       "29  CATÁLOGO: SI_ NO                              ...  \n",
       "30  CATÁLOGO: SI_ NO                              ...  \n",
       "31                                CATÁLOGO: RESULTADO  \n",
       "32  CATÁLOGO: SI_ NO                              ...  \n",
       "33                               TEXTO, 99= SE IGNORA  \n",
       "34                               TEXTO, 97= NO APLICA  \n",
       "35  CATÁLOGO: SI_ NO                              ...  "
      ]
     },
     "execution_count": 148,
     "metadata": {},
     "output_type": "execute_result"
    }
   ],
   "source": [
    "df_auxiliar"
   ]
  },
  {
   "cell_type": "code",
   "execution_count": 149,
   "metadata": {},
   "outputs": [],
   "source": [
    "df_auxiliar[\"FORMATO O FUENTE\"] = df_auxiliar[\"FORMATO O FUENTE\"].str.strip()"
   ]
  },
  {
   "cell_type": "code",
   "execution_count": 150,
   "metadata": {},
   "outputs": [
    {
     "data": {
      "text/plain": [
       "Nº\n",
       "1                  AAAA-MM-DD\n",
       "2                       TEXTO\n",
       "3            CATÁLOGO: ORIGEN\n",
       "4            CATÁLOGO: SECTOR\n",
       "5         CATALOGO: ENTIDADES\n",
       "6              CATÁLOGO: SEXO\n",
       "7         CATALOGO: ENTIDADES\n",
       "8         CATALOGO: ENTIDADES\n",
       "9        CATALOGO: MUNICIPIOS\n",
       "10    CATÁLOGO: TIPO_PACIENTE\n",
       "11                 AAAA-MM-DD\n",
       "12                 AAAA-MM-DD\n",
       "13                 AAAA-MM-DD\n",
       "14           CATÁLOGO: SI_ NO\n",
       "15           CATÁLOGO: SI_ NO\n",
       "16           NÚMERICA EN AÑOS\n",
       "17     CATÁLOGO: NACIONALIDAD\n",
       "18           CATÁLOGO: SI_ NO\n",
       "19           CATÁLOGO: SI_ NO\n",
       "20           CATÁLOGO: SI_ NO\n",
       "21           CATÁLOGO: SI_ NO\n",
       "22           CATÁLOGO: SI_ NO\n",
       "23           CATÁLOGO: SI_ NO\n",
       "24           CATÁLOGO: SI_ NO\n",
       "25           CATÁLOGO: SI_ NO\n",
       "26           CATÁLOGO: SI_ NO\n",
       "27           CATÁLOGO: SI_ NO\n",
       "28           CATÁLOGO: SI_ NO\n",
       "29           CATÁLOGO: SI_ NO\n",
       "30           CATÁLOGO: SI_ NO\n",
       "31        CATÁLOGO: RESULTADO\n",
       "32           CATÁLOGO: SI_ NO\n",
       "33       TEXTO, 99= SE IGNORA\n",
       "34       TEXTO, 97= NO APLICA\n",
       "35           CATÁLOGO: SI_ NO\n",
       "Name: FORMATO O FUENTE, dtype: object"
      ]
     },
     "execution_count": 150,
     "metadata": {},
     "output_type": "execute_result"
    }
   ],
   "source": [
    "df_auxiliar[\"FORMATO O FUENTE\"].str.replace(\"CATALÓGO\", \"CATALOGO\")"
   ]
  },
  {
   "cell_type": "code",
   "execution_count": 151,
   "metadata": {},
   "outputs": [
    {
     "data": {
      "text/plain": [
       "Nº\n",
       "1                  AAAA-MM-DD\n",
       "2                       TEXTO\n",
       "3            CATALOGO: ORIGEN\n",
       "4            CATALOGO: SECTOR\n",
       "5         CATALÓGO: ENTIDADES\n",
       "6              CATALOGO: SEXO\n",
       "7         CATALÓGO: ENTIDADES\n",
       "8         CATALÓGO: ENTIDADES\n",
       "9        CATALÓGO: MUNICIPIOS\n",
       "10    CATALOGO: TIPO_PACIENTE\n",
       "11                 AAAA-MM-DD\n",
       "12                 AAAA-MM-DD\n",
       "13                 AAAA-MM-DD\n",
       "14           CATALOGO: SI_ NO\n",
       "15           CATALOGO: SI_ NO\n",
       "16           NÚMERICA EN AÑOS\n",
       "17     CATALOGO: NACIONALIDAD\n",
       "18           CATALOGO: SI_ NO\n",
       "19           CATALOGO: SI_ NO\n",
       "20           CATALOGO: SI_ NO\n",
       "21           CATALOGO: SI_ NO\n",
       "22           CATALOGO: SI_ NO\n",
       "23           CATALOGO: SI_ NO\n",
       "24           CATALOGO: SI_ NO\n",
       "25           CATALOGO: SI_ NO\n",
       "26           CATALOGO: SI_ NO\n",
       "27           CATALOGO: SI_ NO\n",
       "28           CATALOGO: SI_ NO\n",
       "29           CATALOGO: SI_ NO\n",
       "30           CATALOGO: SI_ NO\n",
       "31        CATALOGO: RESULTADO\n",
       "32           CATALOGO: SI_ NO\n",
       "33       TEXTO, 99= SE IGNORA\n",
       "34       TEXTO, 97= NO APLICA\n",
       "35           CATALOGO: SI_ NO\n",
       "Name: FORMATO O FUENTE, dtype: object"
      ]
     },
     "execution_count": 151,
     "metadata": {},
     "output_type": "execute_result"
    }
   ],
   "source": [
    "df_auxiliar[\"FORMATO O FUENTE\"].str.replace(\"CATÁLOGO\", \"CATALOGO\")"
   ]
  },
  {
   "cell_type": "code",
   "execution_count": 153,
   "metadata": {},
   "outputs": [],
   "source": [
    "datos = pd.merge(datos, dict_catalogo[\"Catálogo de ENTIDADES\"], left_on=\"ENTIDAD_RES\", right_on= \"CLAVE_ENTIDAD\", how = \"outer\")"
   ]
  },
  {
   "cell_type": "code",
   "execution_count": 154,
   "metadata": {},
   "outputs": [],
   "source": [
    "datos_positivos = datos[datos.RESULTADO == 1]"
   ]
  },
  {
   "cell_type": "code",
   "execution_count": 155,
   "metadata": {},
   "outputs": [
    {
     "data": {
      "text/plain": [
       "(49219, 40)"
      ]
     },
     "execution_count": 155,
     "metadata": {},
     "output_type": "execute_result"
    }
   ],
   "source": [
    "datos_positivos.shape"
   ]
  },
  {
   "cell_type": "code",
   "execution_count": 162,
   "metadata": {},
   "outputs": [
    {
     "data": {
      "text/html": [
       "<div>\n",
       "<style scoped>\n",
       "    .dataframe tbody tr th:only-of-type {\n",
       "        vertical-align: middle;\n",
       "    }\n",
       "\n",
       "    .dataframe tbody tr th {\n",
       "        vertical-align: top;\n",
       "    }\n",
       "\n",
       "    .dataframe thead th {\n",
       "        text-align: right;\n",
       "    }\n",
       "</style>\n",
       "<table border=\"1\" class=\"dataframe\">\n",
       "  <thead>\n",
       "    <tr style=\"text-align: right;\">\n",
       "      <th></th>\n",
       "      <th>CLAVE_ENTIDAD</th>\n",
       "      <th>ENTIDAD_FEDERATIVA</th>\n",
       "      <th>ABREVIATURA</th>\n",
       "    </tr>\n",
       "  </thead>\n",
       "  <tbody>\n",
       "    <tr>\n",
       "      <th>0</th>\n",
       "      <td>1</td>\n",
       "      <td>AGUASCALIENTES</td>\n",
       "      <td>AS</td>\n",
       "    </tr>\n",
       "    <tr>\n",
       "      <th>1</th>\n",
       "      <td>2</td>\n",
       "      <td>BAJA CALIFORNIA</td>\n",
       "      <td>BC</td>\n",
       "    </tr>\n",
       "    <tr>\n",
       "      <th>2</th>\n",
       "      <td>3</td>\n",
       "      <td>BAJA CALIFORNIA SUR</td>\n",
       "      <td>BS</td>\n",
       "    </tr>\n",
       "    <tr>\n",
       "      <th>3</th>\n",
       "      <td>4</td>\n",
       "      <td>CAMPECHE</td>\n",
       "      <td>CC</td>\n",
       "    </tr>\n",
       "    <tr>\n",
       "      <th>4</th>\n",
       "      <td>5</td>\n",
       "      <td>COAHUILA DE ZARAGOZA</td>\n",
       "      <td>CL</td>\n",
       "    </tr>\n",
       "  </tbody>\n",
       "</table>\n",
       "</div>"
      ],
      "text/plain": [
       "   CLAVE_ENTIDAD    ENTIDAD_FEDERATIVA ABREVIATURA\n",
       "0              1        AGUASCALIENTES          AS\n",
       "1              2       BAJA CALIFORNIA          BC\n",
       "2              3   BAJA CALIFORNIA SUR          BS\n",
       "3              4              CAMPECHE          CC\n",
       "4              5  COAHUILA DE ZARAGOZA          CL"
      ]
     },
     "execution_count": 162,
     "metadata": {},
     "output_type": "execute_result"
    }
   ],
   "source": [
    "dict_catalogo[\"Catálogo de ENTIDADES\"].head()"
   ]
  },
  {
   "cell_type": "code",
   "execution_count": 163,
   "metadata": {},
   "outputs": [
    {
     "data": {
      "text/plain": [
       "<matplotlib.axes._subplots.AxesSubplot at 0x7f0c7f4ec470>"
      ]
     },
     "execution_count": 163,
     "metadata": {},
     "output_type": "execute_result"
    },
    {
     "data": {
      "image/png": "[encoded data removed]",
      "text/plain": [
       "<Figure size 432x288 with 1 Axes>"
      ]
     },
     "metadata": {
      "needs_background": "light"
     },
     "output_type": "display_data"
    }
   ],
   "source": [
    "datos[\"ENTIDAD_FEDERATIVA\"].value_counts().plot.bar()"
   ]
  },
  {
   "cell_type": "code",
   "execution_count": 164,
   "metadata": {},
   "outputs": [
    {
     "data": {
      "text/plain": [
       "<matplotlib.axes._subplots.AxesSubplot at 0x7f0c7f48ae80>"
      ]
     },
     "execution_count": 164,
     "metadata": {},
     "output_type": "execute_result"
    },
    {
     "data": {
      "image/png": "[encoded data removed]",
      "text/plain": [
       "<Figure size 432x288 with 1 Axes>"
      ]
     },
     "metadata": {
      "needs_background": "light"
     },
     "output_type": "display_data"
    }
   ],
   "source": [
    "datos[\"ENTIDAD_FEDERATIVA\"].value_counts(normalize = True).plot.bar()"
   ]
  },
  {
   "cell_type": "code",
   "execution_count": 161,
   "metadata": {},
   "outputs": [
    {
     "data": {
      "text/html": [
       "<div>\n",
       "<style scoped>\n",
       "    .dataframe tbody tr th:only-of-type {\n",
       "        vertical-align: middle;\n",
       "    }\n",
       "\n",
       "    .dataframe tbody tr th {\n",
       "        vertical-align: top;\n",
       "    }\n",
       "\n",
       "    .dataframe thead th {\n",
       "        text-align: right;\n",
       "    }\n",
       "</style>\n",
       "<table border=\"1\" class=\"dataframe\">\n",
       "  <thead>\n",
       "    <tr style=\"text-align: right;\">\n",
       "      <th></th>\n",
       "      <th></th>\n",
       "      <th>ENTIDAD_RES</th>\n",
       "    </tr>\n",
       "    <tr>\n",
       "      <th>ENTIDAD_FEDERATIVA</th>\n",
       "      <th>EDAD</th>\n",
       "      <th></th>\n",
       "    </tr>\n",
       "  </thead>\n",
       "  <tbody>\n",
       "    <tr>\n",
       "      <th rowspan=\"30\" valign=\"top\">AGUASCALIENTES</th>\n",
       "      <th>0.0</th>\n",
       "      <td>18</td>\n",
       "    </tr>\n",
       "    <tr>\n",
       "      <th>1.0</th>\n",
       "      <td>32</td>\n",
       "    </tr>\n",
       "    <tr>\n",
       "      <th>2.0</th>\n",
       "      <td>18</td>\n",
       "    </tr>\n",
       "    <tr>\n",
       "      <th>3.0</th>\n",
       "      <td>12</td>\n",
       "    </tr>\n",
       "    <tr>\n",
       "      <th>4.0</th>\n",
       "      <td>17</td>\n",
       "    </tr>\n",
       "    <tr>\n",
       "      <th>5.0</th>\n",
       "      <td>14</td>\n",
       "    </tr>\n",
       "    <tr>\n",
       "      <th>6.0</th>\n",
       "      <td>23</td>\n",
       "    </tr>\n",
       "    <tr>\n",
       "      <th>7.0</th>\n",
       "      <td>10</td>\n",
       "    </tr>\n",
       "    <tr>\n",
       "      <th>8.0</th>\n",
       "      <td>14</td>\n",
       "    </tr>\n",
       "    <tr>\n",
       "      <th>9.0</th>\n",
       "      <td>13</td>\n",
       "    </tr>\n",
       "    <tr>\n",
       "      <th>10.0</th>\n",
       "      <td>12</td>\n",
       "    </tr>\n",
       "    <tr>\n",
       "      <th>11.0</th>\n",
       "      <td>17</td>\n",
       "    </tr>\n",
       "    <tr>\n",
       "      <th>12.0</th>\n",
       "      <td>12</td>\n",
       "    </tr>\n",
       "    <tr>\n",
       "      <th>13.0</th>\n",
       "      <td>16</td>\n",
       "    </tr>\n",
       "    <tr>\n",
       "      <th>14.0</th>\n",
       "      <td>13</td>\n",
       "    </tr>\n",
       "    <tr>\n",
       "      <th>15.0</th>\n",
       "      <td>18</td>\n",
       "    </tr>\n",
       "    <tr>\n",
       "      <th>16.0</th>\n",
       "      <td>21</td>\n",
       "    </tr>\n",
       "    <tr>\n",
       "      <th>17.0</th>\n",
       "      <td>13</td>\n",
       "    </tr>\n",
       "    <tr>\n",
       "      <th>18.0</th>\n",
       "      <td>24</td>\n",
       "    </tr>\n",
       "    <tr>\n",
       "      <th>19.0</th>\n",
       "      <td>29</td>\n",
       "    </tr>\n",
       "    <tr>\n",
       "      <th>20.0</th>\n",
       "      <td>37</td>\n",
       "    </tr>\n",
       "    <tr>\n",
       "      <th>21.0</th>\n",
       "      <td>48</td>\n",
       "    </tr>\n",
       "    <tr>\n",
       "      <th>22.0</th>\n",
       "      <td>43</td>\n",
       "    </tr>\n",
       "    <tr>\n",
       "      <th>23.0</th>\n",
       "      <td>64</td>\n",
       "    </tr>\n",
       "    <tr>\n",
       "      <th>24.0</th>\n",
       "      <td>71</td>\n",
       "    </tr>\n",
       "    <tr>\n",
       "      <th>25.0</th>\n",
       "      <td>85</td>\n",
       "    </tr>\n",
       "    <tr>\n",
       "      <th>26.0</th>\n",
       "      <td>102</td>\n",
       "    </tr>\n",
       "    <tr>\n",
       "      <th>27.0</th>\n",
       "      <td>95</td>\n",
       "    </tr>\n",
       "    <tr>\n",
       "      <th>28.0</th>\n",
       "      <td>90</td>\n",
       "    </tr>\n",
       "    <tr>\n",
       "      <th>29.0</th>\n",
       "      <td>96</td>\n",
       "    </tr>\n",
       "    <tr>\n",
       "      <th>...</th>\n",
       "      <th>...</th>\n",
       "      <td>...</td>\n",
       "    </tr>\n",
       "    <tr>\n",
       "      <th rowspan=\"30\" valign=\"top\">ZACATECAS</th>\n",
       "      <th>63.0</th>\n",
       "      <td>7</td>\n",
       "    </tr>\n",
       "    <tr>\n",
       "      <th>64.0</th>\n",
       "      <td>8</td>\n",
       "    </tr>\n",
       "    <tr>\n",
       "      <th>65.0</th>\n",
       "      <td>12</td>\n",
       "    </tr>\n",
       "    <tr>\n",
       "      <th>66.0</th>\n",
       "      <td>13</td>\n",
       "    </tr>\n",
       "    <tr>\n",
       "      <th>67.0</th>\n",
       "      <td>7</td>\n",
       "    </tr>\n",
       "    <tr>\n",
       "      <th>68.0</th>\n",
       "      <td>11</td>\n",
       "    </tr>\n",
       "    <tr>\n",
       "      <th>69.0</th>\n",
       "      <td>4</td>\n",
       "    </tr>\n",
       "    <tr>\n",
       "      <th>70.0</th>\n",
       "      <td>8</td>\n",
       "    </tr>\n",
       "    <tr>\n",
       "      <th>71.0</th>\n",
       "      <td>7</td>\n",
       "    </tr>\n",
       "    <tr>\n",
       "      <th>72.0</th>\n",
       "      <td>8</td>\n",
       "    </tr>\n",
       "    <tr>\n",
       "      <th>73.0</th>\n",
       "      <td>10</td>\n",
       "    </tr>\n",
       "    <tr>\n",
       "      <th>74.0</th>\n",
       "      <td>4</td>\n",
       "    </tr>\n",
       "    <tr>\n",
       "      <th>75.0</th>\n",
       "      <td>4</td>\n",
       "    </tr>\n",
       "    <tr>\n",
       "      <th>76.0</th>\n",
       "      <td>4</td>\n",
       "    </tr>\n",
       "    <tr>\n",
       "      <th>77.0</th>\n",
       "      <td>7</td>\n",
       "    </tr>\n",
       "    <tr>\n",
       "      <th>78.0</th>\n",
       "      <td>9</td>\n",
       "    </tr>\n",
       "    <tr>\n",
       "      <th>79.0</th>\n",
       "      <td>1</td>\n",
       "    </tr>\n",
       "    <tr>\n",
       "      <th>80.0</th>\n",
       "      <td>3</td>\n",
       "    </tr>\n",
       "    <tr>\n",
       "      <th>81.0</th>\n",
       "      <td>4</td>\n",
       "    </tr>\n",
       "    <tr>\n",
       "      <th>82.0</th>\n",
       "      <td>2</td>\n",
       "    </tr>\n",
       "    <tr>\n",
       "      <th>83.0</th>\n",
       "      <td>6</td>\n",
       "    </tr>\n",
       "    <tr>\n",
       "      <th>84.0</th>\n",
       "      <td>4</td>\n",
       "    </tr>\n",
       "    <tr>\n",
       "      <th>86.0</th>\n",
       "      <td>6</td>\n",
       "    </tr>\n",
       "    <tr>\n",
       "      <th>87.0</th>\n",
       "      <td>3</td>\n",
       "    </tr>\n",
       "    <tr>\n",
       "      <th>88.0</th>\n",
       "      <td>3</td>\n",
       "    </tr>\n",
       "    <tr>\n",
       "      <th>89.0</th>\n",
       "      <td>2</td>\n",
       "    </tr>\n",
       "    <tr>\n",
       "      <th>90.0</th>\n",
       "      <td>4</td>\n",
       "    </tr>\n",
       "    <tr>\n",
       "      <th>94.0</th>\n",
       "      <td>1</td>\n",
       "    </tr>\n",
       "    <tr>\n",
       "      <th>96.0</th>\n",
       "      <td>1</td>\n",
       "    </tr>\n",
       "    <tr>\n",
       "      <th>97.0</th>\n",
       "      <td>1</td>\n",
       "    </tr>\n",
       "  </tbody>\n",
       "</table>\n",
       "<p>3102 rows × 1 columns</p>\n",
       "</div>"
      ],
      "text/plain": [
       "                         ENTIDAD_RES\n",
       "ENTIDAD_FEDERATIVA EDAD             \n",
       "AGUASCALIENTES     0.0            18\n",
       "                   1.0            32\n",
       "                   2.0            18\n",
       "                   3.0            12\n",
       "                   4.0            17\n",
       "                   5.0            14\n",
       "                   6.0            23\n",
       "                   7.0            10\n",
       "                   8.0            14\n",
       "                   9.0            13\n",
       "                   10.0           12\n",
       "                   11.0           17\n",
       "                   12.0           12\n",
       "                   13.0           16\n",
       "                   14.0           13\n",
       "                   15.0           18\n",
       "                   16.0           21\n",
       "                   17.0           13\n",
       "                   18.0           24\n",
       "                   19.0           29\n",
       "                   20.0           37\n",
       "                   21.0           48\n",
       "                   22.0           43\n",
       "                   23.0           64\n",
       "                   24.0           71\n",
       "                   25.0           85\n",
       "                   26.0          102\n",
       "                   27.0           95\n",
       "                   28.0           90\n",
       "                   29.0           96\n",
       "...                              ...\n",
       "ZACATECAS          63.0            7\n",
       "                   64.0            8\n",
       "                   65.0           12\n",
       "                   66.0           13\n",
       "                   67.0            7\n",
       "                   68.0           11\n",
       "                   69.0            4\n",
       "                   70.0            8\n",
       "                   71.0            7\n",
       "                   72.0            8\n",
       "                   73.0           10\n",
       "                   74.0            4\n",
       "                   75.0            4\n",
       "                   76.0            4\n",
       "                   77.0            7\n",
       "                   78.0            9\n",
       "                   79.0            1\n",
       "                   80.0            3\n",
       "                   81.0            4\n",
       "                   82.0            2\n",
       "                   83.0            6\n",
       "                   84.0            4\n",
       "                   86.0            6\n",
       "                   87.0            3\n",
       "                   88.0            3\n",
       "                   89.0            2\n",
       "                   90.0            4\n",
       "                   94.0            1\n",
       "                   96.0            1\n",
       "                   97.0            1\n",
       "\n",
       "[3102 rows x 1 columns]"
      ]
     },
     "execution_count": 161,
     "metadata": {},
     "output_type": "execute_result"
    }
   ],
   "source": [
    "datos[[\"EDAD\", \"ENTIDAD_RES\", \"ENTIDAD_FEDERATIVA\"]].groupby([\"ENTIDAD_FEDERATIVA\", \"EDAD\"]).count()"
   ]
  },
  {
   "cell_type": "code",
   "execution_count": null,
   "metadata": {},
   "outputs": [],
   "source": []
  },
  {
   "cell_type": "code",
   "execution_count": null,
   "metadata": {},
   "outputs": [],
   "source": []
  },
  {
   "cell_type": "code",
   "execution_count": null,
   "metadata": {},
   "outputs": [],
   "source": []
  },
  {
   "cell_type": "code",
   "execution_count": null,
   "metadata": {},
   "outputs": [],
   "source": []
  },
  {
   "cell_type": "code",
   "execution_count": null,
   "metadata": {},
   "outputs": [],
   "source": []
  },
  {
   "cell_type": "code",
   "execution_count": null,
   "metadata": {},
   "outputs": [],
   "source": []
  }
 ],
 "metadata": {
  "kernelspec": {
   "display_name": "Python 3",
   "language": "python",
   "name": "python3"
  },
  "language_info": {
   "codemirror_mode": {
    "name": "ipython",
    "version": 3
   },
   "file_extension": ".py",
   "mimetype": "text/x-python",
   "name": "python",
   "nbconvert_exporter": "python",
   "pygments_lexer": "ipython3",
   "version": "3.6.9"
  }
 },
 "nbformat": 4,
 "nbformat_minor": 2
}
