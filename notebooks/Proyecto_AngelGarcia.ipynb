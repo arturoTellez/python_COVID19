{
 "cells": [
  {
   "cell_type": "code",
   "execution_count": 38,
   "metadata": {},
   "outputs": [],
   "source": [
    "import pandas as pd\n",
    "import matplotlib.pyplot as plt\n",
    "%matplotlib inline"
   ]
  },
  {
   "cell_type": "code",
   "execution_count": 14,
   "metadata": {},
   "outputs": [
    {
     "data": {
      "text/html": [
       "<div>\n",
       "<style scoped>\n",
       "    .dataframe tbody tr th:only-of-type {\n",
       "        vertical-align: middle;\n",
       "    }\n",
       "\n",
       "    .dataframe tbody tr th {\n",
       "        vertical-align: top;\n",
       "    }\n",
       "\n",
       "    .dataframe thead th {\n",
       "        text-align: right;\n",
       "    }\n",
       "</style>\n",
       "<table border=\"1\" class=\"dataframe\">\n",
       "  <thead>\n",
       "    <tr style=\"text-align: right;\">\n",
       "      <th></th>\n",
       "      <th>FECHA_ACTUALIZACION</th>\n",
       "      <th>ID_REGISTRO</th>\n",
       "      <th>ORIGEN</th>\n",
       "      <th>SECTOR</th>\n",
       "      <th>ENTIDAD_UM</th>\n",
       "      <th>SEXO</th>\n",
       "      <th>ENTIDAD_NAC</th>\n",
       "      <th>ENTIDAD_RES</th>\n",
       "      <th>MUNICIPIO_RES</th>\n",
       "      <th>TIPO_PACIENTE</th>\n",
       "      <th>...</th>\n",
       "      <th>CARDIOVASCULAR</th>\n",
       "      <th>OBESIDAD</th>\n",
       "      <th>RENAL_CRONICA</th>\n",
       "      <th>TABAQUISMO</th>\n",
       "      <th>OTRO_CASO</th>\n",
       "      <th>RESULTADO</th>\n",
       "      <th>MIGRANTE</th>\n",
       "      <th>PAIS_NACIONALIDAD</th>\n",
       "      <th>PAIS_ORIGEN</th>\n",
       "      <th>UCI</th>\n",
       "    </tr>\n",
       "  </thead>\n",
       "  <tbody>\n",
       "    <tr>\n",
       "      <th>0</th>\n",
       "      <td>2020-05-17</td>\n",
       "      <td>098894</td>\n",
       "      <td>2</td>\n",
       "      <td>3</td>\n",
       "      <td>2</td>\n",
       "      <td>2</td>\n",
       "      <td>2</td>\n",
       "      <td>2</td>\n",
       "      <td>2</td>\n",
       "      <td>1</td>\n",
       "      <td>...</td>\n",
       "      <td>1</td>\n",
       "      <td>2</td>\n",
       "      <td>2</td>\n",
       "      <td>2</td>\n",
       "      <td>1</td>\n",
       "      <td>1</td>\n",
       "      <td>99</td>\n",
       "      <td>MÃ©xico</td>\n",
       "      <td>99</td>\n",
       "      <td>97</td>\n",
       "    </tr>\n",
       "    <tr>\n",
       "      <th>1</th>\n",
       "      <td>2020-05-17</td>\n",
       "      <td>0cb732</td>\n",
       "      <td>2</td>\n",
       "      <td>4</td>\n",
       "      <td>9</td>\n",
       "      <td>2</td>\n",
       "      <td>9</td>\n",
       "      <td>15</td>\n",
       "      <td>31</td>\n",
       "      <td>2</td>\n",
       "      <td>...</td>\n",
       "      <td>2</td>\n",
       "      <td>1</td>\n",
       "      <td>2</td>\n",
       "      <td>2</td>\n",
       "      <td>99</td>\n",
       "      <td>1</td>\n",
       "      <td>99</td>\n",
       "      <td>MÃ©xico</td>\n",
       "      <td>99</td>\n",
       "      <td>2</td>\n",
       "    </tr>\n",
       "    <tr>\n",
       "      <th>2</th>\n",
       "      <td>2020-05-17</td>\n",
       "      <td>137359</td>\n",
       "      <td>2</td>\n",
       "      <td>4</td>\n",
       "      <td>2</td>\n",
       "      <td>1</td>\n",
       "      <td>1</td>\n",
       "      <td>2</td>\n",
       "      <td>2</td>\n",
       "      <td>1</td>\n",
       "      <td>...</td>\n",
       "      <td>2</td>\n",
       "      <td>1</td>\n",
       "      <td>2</td>\n",
       "      <td>2</td>\n",
       "      <td>99</td>\n",
       "      <td>1</td>\n",
       "      <td>99</td>\n",
       "      <td>MÃ©xico</td>\n",
       "      <td>99</td>\n",
       "      <td>97</td>\n",
       "    </tr>\n",
       "    <tr>\n",
       "      <th>3</th>\n",
       "      <td>2020-05-17</td>\n",
       "      <td>066f8f</td>\n",
       "      <td>2</td>\n",
       "      <td>4</td>\n",
       "      <td>30</td>\n",
       "      <td>1</td>\n",
       "      <td>21</td>\n",
       "      <td>30</td>\n",
       "      <td>193</td>\n",
       "      <td>2</td>\n",
       "      <td>...</td>\n",
       "      <td>2</td>\n",
       "      <td>2</td>\n",
       "      <td>2</td>\n",
       "      <td>1</td>\n",
       "      <td>99</td>\n",
       "      <td>1</td>\n",
       "      <td>99</td>\n",
       "      <td>MÃ©xico</td>\n",
       "      <td>99</td>\n",
       "      <td>2</td>\n",
       "    </tr>\n",
       "    <tr>\n",
       "      <th>4</th>\n",
       "      <td>2020-05-17</td>\n",
       "      <td>027a23</td>\n",
       "      <td>2</td>\n",
       "      <td>4</td>\n",
       "      <td>9</td>\n",
       "      <td>2</td>\n",
       "      <td>21</td>\n",
       "      <td>9</td>\n",
       "      <td>15</td>\n",
       "      <td>2</td>\n",
       "      <td>...</td>\n",
       "      <td>2</td>\n",
       "      <td>2</td>\n",
       "      <td>2</td>\n",
       "      <td>1</td>\n",
       "      <td>99</td>\n",
       "      <td>1</td>\n",
       "      <td>99</td>\n",
       "      <td>MÃ©xico</td>\n",
       "      <td>99</td>\n",
       "      <td>2</td>\n",
       "    </tr>\n",
       "  </tbody>\n",
       "</table>\n",
       "<p>5 rows × 35 columns</p>\n",
       "</div>"
      ],
      "text/plain": [
       "  FECHA_ACTUALIZACION ID_REGISTRO  ORIGEN  SECTOR  ENTIDAD_UM  SEXO  \\\n",
       "0          2020-05-17      098894       2       3           2     2   \n",
       "1          2020-05-17      0cb732       2       4           9     2   \n",
       "2          2020-05-17      137359       2       4           2     1   \n",
       "3          2020-05-17      066f8f       2       4          30     1   \n",
       "4          2020-05-17      027a23       2       4           9     2   \n",
       "\n",
       "   ENTIDAD_NAC  ENTIDAD_RES  MUNICIPIO_RES  TIPO_PACIENTE  ... CARDIOVASCULAR  \\\n",
       "0            2            2              2              1  ...              1   \n",
       "1            9           15             31              2  ...              2   \n",
       "2            1            2              2              1  ...              2   \n",
       "3           21           30            193              2  ...              2   \n",
       "4           21            9             15              2  ...              2   \n",
       "\n",
       "  OBESIDAD RENAL_CRONICA  TABAQUISMO  OTRO_CASO  RESULTADO  MIGRANTE  \\\n",
       "0        2             2           2          1          1        99   \n",
       "1        1             2           2         99          1        99   \n",
       "2        1             2           2         99          1        99   \n",
       "3        2             2           1         99          1        99   \n",
       "4        2             2           1         99          1        99   \n",
       "\n",
       "   PAIS_NACIONALIDAD  PAIS_ORIGEN  UCI  \n",
       "0            MÃ©xico           99   97  \n",
       "1            MÃ©xico           99    2  \n",
       "2            MÃ©xico           99   97  \n",
       "3            MÃ©xico           99    2  \n",
       "4            MÃ©xico           99    2  \n",
       "\n",
       "[5 rows x 35 columns]"
      ]
     },
     "execution_count": 14,
     "metadata": {},
     "output_type": "execute_result"
    }
   ],
   "source": [
    "datos = pd.read_csv(\"../data/datos_2020-05-17.csv\", encoding = \"latin-1\")\n",
    "datos.head()"
   ]
  },
  {
   "cell_type": "code",
   "execution_count": 4,
   "metadata": {},
   "outputs": [
    {
     "name": "stdout",
     "output_type": "stream",
     "text": [
      "<class 'pandas.core.frame.DataFrame'>\n",
      "RangeIndex: 172294 entries, 0 to 172293\n",
      "Data columns (total 35 columns):\n",
      " #   Column               Non-Null Count   Dtype \n",
      "---  ------               --------------   ----- \n",
      " 0   FECHA_ACTUALIZACION  172294 non-null  object\n",
      " 1   ID_REGISTRO          172294 non-null  object\n",
      " 2   ORIGEN               172294 non-null  int64 \n",
      " 3   SECTOR               172294 non-null  int64 \n",
      " 4   ENTIDAD_UM           172294 non-null  int64 \n",
      " 5   SEXO                 172294 non-null  int64 \n",
      " 6   ENTIDAD_NAC          172294 non-null  int64 \n",
      " 7   ENTIDAD_RES          172294 non-null  int64 \n",
      " 8   MUNICIPIO_RES        172294 non-null  int64 \n",
      " 9   TIPO_PACIENTE        172294 non-null  int64 \n",
      " 10  FECHA_INGRESO        172294 non-null  object\n",
      " 11  FECHA_SINTOMAS       172294 non-null  object\n",
      " 12  FECHA_DEF            172294 non-null  object\n",
      " 13  INTUBADO             172294 non-null  int64 \n",
      " 14  NEUMONIA             172294 non-null  int64 \n",
      " 15  EDAD                 172294 non-null  int64 \n",
      " 16  NACIONALIDAD         172294 non-null  int64 \n",
      " 17  EMBARAZO             172294 non-null  int64 \n",
      " 18  HABLA_LENGUA_INDIG   172294 non-null  int64 \n",
      " 19  DIABETES             172294 non-null  int64 \n",
      " 20  EPOC                 172294 non-null  int64 \n",
      " 21  ASMA                 172294 non-null  int64 \n",
      " 22  INMUSUPR             172294 non-null  int64 \n",
      " 23  HIPERTENSION         172294 non-null  int64 \n",
      " 24  OTRA_COM             172294 non-null  int64 \n",
      " 25  CARDIOVASCULAR       172294 non-null  int64 \n",
      " 26  OBESIDAD             172294 non-null  int64 \n",
      " 27  RENAL_CRONICA        172294 non-null  int64 \n",
      " 28  TABAQUISMO           172294 non-null  int64 \n",
      " 29  OTRO_CASO            172294 non-null  int64 \n",
      " 30  RESULTADO            172294 non-null  int64 \n",
      " 31  MIGRANTE             172294 non-null  int64 \n",
      " 32  PAIS_NACIONALIDAD    172294 non-null  object\n",
      " 33  PAIS_ORIGEN          172294 non-null  object\n",
      " 34  UCI                  172294 non-null  int64 \n",
      "dtypes: int64(28), object(7)\n",
      "memory usage: 46.0+ MB\n"
     ]
    }
   ],
   "source": [
    "datos.info()"
   ]
  },
  {
   "cell_type": "code",
   "execution_count": 19,
   "metadata": {},
   "outputs": [
    {
     "name": "stdout",
     "output_type": "stream",
     "text": [
      "<class 'pandas.core.frame.DataFrame'>\n",
      "RangeIndex: 172294 entries, 0 to 172293\n",
      "Data columns (total 35 columns):\n",
      " #   Column               Non-Null Count   Dtype         \n",
      "---  ------               --------------   -----         \n",
      " 0   FECHA_ACTUALIZACION  172294 non-null  datetime64[ns]\n",
      " 1   ID_REGISTRO          172294 non-null  object        \n",
      " 2   ORIGEN               172294 non-null  int64         \n",
      " 3   SECTOR               172294 non-null  int64         \n",
      " 4   ENTIDAD_UM           172294 non-null  int64         \n",
      " 5   SEXO                 172294 non-null  int64         \n",
      " 6   ENTIDAD_NAC          172294 non-null  int64         \n",
      " 7   ENTIDAD_RES          172294 non-null  int64         \n",
      " 8   MUNICIPIO_RES        172294 non-null  int64         \n",
      " 9   TIPO_PACIENTE        172294 non-null  int64         \n",
      " 10  FECHA_INGRESO        172294 non-null  object        \n",
      " 11  FECHA_SINTOMAS       172294 non-null  datetime64[ns]\n",
      " 12  FECHA_DEF            172294 non-null  object        \n",
      " 13  INTUBADO             172294 non-null  int64         \n",
      " 14  NEUMONIA             172294 non-null  int64         \n",
      " 15  EDAD                 172294 non-null  int64         \n",
      " 16  NACIONALIDAD         172294 non-null  int64         \n",
      " 17  EMBARAZO             172294 non-null  int64         \n",
      " 18  HABLA_LENGUA_INDIG   172294 non-null  int64         \n",
      " 19  DIABETES             172294 non-null  int64         \n",
      " 20  EPOC                 172294 non-null  int64         \n",
      " 21  ASMA                 172294 non-null  int64         \n",
      " 22  INMUSUPR             172294 non-null  int64         \n",
      " 23  HIPERTENSION         172294 non-null  int64         \n",
      " 24  OTRA_COM             172294 non-null  int64         \n",
      " 25  CARDIOVASCULAR       172294 non-null  int64         \n",
      " 26  OBESIDAD             172294 non-null  int64         \n",
      " 27  RENAL_CRONICA        172294 non-null  int64         \n",
      " 28  TABAQUISMO           172294 non-null  int64         \n",
      " 29  OTRO_CASO            172294 non-null  int64         \n",
      " 30  RESULTADO            172294 non-null  int64         \n",
      " 31  MIGRANTE             172294 non-null  int64         \n",
      " 32  PAIS_NACIONALIDAD    172294 non-null  object        \n",
      " 33  PAIS_ORIGEN          172294 non-null  object        \n",
      " 34  UCI                  172294 non-null  int64         \n",
      "dtypes: datetime64[ns](2), int64(28), object(5)\n",
      "memory usage: 46.0+ MB\n"
     ]
    }
   ],
   "source": [
    "datos.FECHA_ACTUALIZACION = pd.to_datetime(datos.FECHA_ACTUALIZACION)\n",
    "datos.info()"
   ]
  },
  {
   "cell_type": "code",
   "execution_count": 16,
   "metadata": {},
   "outputs": [
    {
     "data": {
      "text/plain": [
       "count                  172294\n",
       "unique                      1\n",
       "top       2020-05-17 00:00:00\n",
       "freq                   172294\n",
       "first     2020-05-17 00:00:00\n",
       "last      2020-05-17 00:00:00\n",
       "Name: FECHA_ACTUALIZACION, dtype: object"
      ]
     },
     "execution_count": 16,
     "metadata": {},
     "output_type": "execute_result"
    }
   ],
   "source": [
    "datos.FECHA_ACTUALIZACION.describe()\n"
   ]
  },
  {
   "cell_type": "code",
   "execution_count": 17,
   "metadata": {},
   "outputs": [
    {
     "data": {
      "text/plain": [
       "<matplotlib.axes._subplots.AxesSubplot at 0x1da4d29e348>"
      ]
     },
     "execution_count": 17,
     "metadata": {},
     "output_type": "execute_result"
    },
    {
     "data": {
      "image/png": "[encoded data removed]",
      "text/plain": [
       "<Figure size 432x288 with 1 Axes>"
      ]
     },
     "metadata": {
      "needs_background": "light"
     },
     "output_type": "display_data"
    }
   ],
   "source": [
    "datos.FECHA_ACTUALIZACION.hist()"
   ]
  },
  {
   "cell_type": "code",
   "execution_count": 20,
   "metadata": {},
   "outputs": [
    {
     "name": "stdout",
     "output_type": "stream",
     "text": [
      "<class 'pandas.core.frame.DataFrame'>\n",
      "RangeIndex: 172294 entries, 0 to 172293\n",
      "Data columns (total 35 columns):\n",
      " #   Column               Non-Null Count   Dtype         \n",
      "---  ------               --------------   -----         \n",
      " 0   FECHA_ACTUALIZACION  172294 non-null  datetime64[ns]\n",
      " 1   ID_REGISTRO          172294 non-null  object        \n",
      " 2   ORIGEN               172294 non-null  int64         \n",
      " 3   SECTOR               172294 non-null  int64         \n",
      " 4   ENTIDAD_UM           172294 non-null  int64         \n",
      " 5   SEXO                 172294 non-null  int64         \n",
      " 6   ENTIDAD_NAC          172294 non-null  int64         \n",
      " 7   ENTIDAD_RES          172294 non-null  int64         \n",
      " 8   MUNICIPIO_RES        172294 non-null  int64         \n",
      " 9   TIPO_PACIENTE        172294 non-null  int64         \n",
      " 10  FECHA_INGRESO        172294 non-null  object        \n",
      " 11  FECHA_SINTOMAS       172294 non-null  datetime64[ns]\n",
      " 12  FECHA_DEF            172294 non-null  object        \n",
      " 13  INTUBADO             172294 non-null  int64         \n",
      " 14  NEUMONIA             172294 non-null  int64         \n",
      " 15  EDAD                 172294 non-null  int64         \n",
      " 16  NACIONALIDAD         172294 non-null  int64         \n",
      " 17  EMBARAZO             172294 non-null  int64         \n",
      " 18  HABLA_LENGUA_INDIG   172294 non-null  int64         \n",
      " 19  DIABETES             172294 non-null  int64         \n",
      " 20  EPOC                 172294 non-null  int64         \n",
      " 21  ASMA                 172294 non-null  int64         \n",
      " 22  INMUSUPR             172294 non-null  int64         \n",
      " 23  HIPERTENSION         172294 non-null  int64         \n",
      " 24  OTRA_COM             172294 non-null  int64         \n",
      " 25  CARDIOVASCULAR       172294 non-null  int64         \n",
      " 26  OBESIDAD             172294 non-null  int64         \n",
      " 27  RENAL_CRONICA        172294 non-null  int64         \n",
      " 28  TABAQUISMO           172294 non-null  int64         \n",
      " 29  OTRO_CASO            172294 non-null  int64         \n",
      " 30  RESULTADO            172294 non-null  int64         \n",
      " 31  MIGRANTE             172294 non-null  int64         \n",
      " 32  PAIS_NACIONALIDAD    172294 non-null  object        \n",
      " 33  PAIS_ORIGEN          172294 non-null  object        \n",
      " 34  UCI                  172294 non-null  int64         \n",
      "dtypes: datetime64[ns](2), int64(28), object(5)\n",
      "memory usage: 46.0+ MB\n"
     ]
    }
   ],
   "source": [
    "datos.FECHA_SINTOMAS = pd.to_datetime(datos.FECHA_SINTOMAS)\n",
    "datos.info()"
   ]
  },
  {
   "cell_type": "code",
   "execution_count": 22,
   "metadata": {},
   "outputs": [
    {
     "data": {
      "text/plain": [
       "<matplotlib.axes._subplots.AxesSubplot at 0x1da5278acc8>"
      ]
     },
     "execution_count": 22,
     "metadata": {},
     "output_type": "execute_result"
    },
    {
     "data": {
      "image/png": "[encoded data removed]",
      "text/plain": [
       "<Figure size 432x288 with 1 Axes>"
      ]
     },
     "metadata": {
      "needs_background": "light"
     },
     "output_type": "display_data"
    }
   ],
   "source": [
    "datos.FECHA_SINTOMAS.hist(bins=50)"
   ]
  },
  {
   "cell_type": "code",
   "execution_count": 23,
   "metadata": {},
   "outputs": [
    {
     "data": {
      "text/plain": [
       "count                  172294\n",
       "unique                    138\n",
       "top       2020-05-01 00:00:00\n",
       "freq                     6053\n",
       "first     2020-01-01 00:00:00\n",
       "last      2020-05-17 00:00:00\n",
       "Name: FECHA_SINTOMAS, dtype: object"
      ]
     },
     "execution_count": 23,
     "metadata": {},
     "output_type": "execute_result"
    }
   ],
   "source": [
    "datos.FECHA_SINTOMAS.describe()"
   ]
  },
  {
   "cell_type": "code",
   "execution_count": 24,
   "metadata": {},
   "outputs": [
    {
     "data": {
      "text/plain": [
       "Index(['FECHA_ACTUALIZACION', 'ID_REGISTRO', 'ORIGEN', 'SECTOR', 'ENTIDAD_UM',\n",
       "       'SEXO', 'ENTIDAD_NAC', 'ENTIDAD_RES', 'MUNICIPIO_RES', 'TIPO_PACIENTE',\n",
       "       'FECHA_INGRESO', 'FECHA_SINTOMAS', 'FECHA_DEF', 'INTUBADO', 'NEUMONIA',\n",
       "       'EDAD', 'NACIONALIDAD', 'EMBARAZO', 'HABLA_LENGUA_INDIG', 'DIABETES',\n",
       "       'EPOC', 'ASMA', 'INMUSUPR', 'HIPERTENSION', 'OTRA_COM',\n",
       "       'CARDIOVASCULAR', 'OBESIDAD', 'RENAL_CRONICA', 'TABAQUISMO',\n",
       "       'OTRO_CASO', 'RESULTADO', 'MIGRANTE', 'PAIS_NACIONALIDAD',\n",
       "       'PAIS_ORIGEN', 'UCI'],\n",
       "      dtype='object')"
      ]
     },
     "execution_count": 24,
     "metadata": {},
     "output_type": "execute_result"
    }
   ],
   "source": [
    "datos.columns"
   ]
  },
  {
   "cell_type": "code",
   "execution_count": 25,
   "metadata": {},
   "outputs": [
    {
     "data": {
      "text/html": [
       "<div>\n",
       "<style scoped>\n",
       "    .dataframe tbody tr th:only-of-type {\n",
       "        vertical-align: middle;\n",
       "    }\n",
       "\n",
       "    .dataframe tbody tr th {\n",
       "        vertical-align: top;\n",
       "    }\n",
       "\n",
       "    .dataframe thead th {\n",
       "        text-align: right;\n",
       "    }\n",
       "</style>\n",
       "<table border=\"1\" class=\"dataframe\">\n",
       "  <thead>\n",
       "    <tr style=\"text-align: right;\">\n",
       "      <th></th>\n",
       "      <th>FECHA_ACTUALIZACION</th>\n",
       "    </tr>\n",
       "    <tr>\n",
       "      <th>RESULTADO</th>\n",
       "      <th></th>\n",
       "    </tr>\n",
       "  </thead>\n",
       "  <tbody>\n",
       "    <tr>\n",
       "      <th>1</th>\n",
       "      <td>49219</td>\n",
       "    </tr>\n",
       "    <tr>\n",
       "      <th>2</th>\n",
       "      <td>95568</td>\n",
       "    </tr>\n",
       "    <tr>\n",
       "      <th>3</th>\n",
       "      <td>27507</td>\n",
       "    </tr>\n",
       "  </tbody>\n",
       "</table>\n",
       "</div>"
      ],
      "text/plain": [
       "           FECHA_ACTUALIZACION\n",
       "RESULTADO                     \n",
       "1                        49219\n",
       "2                        95568\n",
       "3                        27507"
      ]
     },
     "execution_count": 25,
     "metadata": {},
     "output_type": "execute_result"
    }
   ],
   "source": [
    "datos[[\"FECHA_ACTUALIZACION\", \"RESULTADO\"]].groupby(\"RESULTADO\").count()"
   ]
  },
  {
   "cell_type": "code",
   "execution_count": 29,
   "metadata": {},
   "outputs": [
    {
     "data": {
      "text/plain": [
       "2    95568\n",
       "1    49219\n",
       "3    27507\n",
       "Name: RESULTADO, dtype: int64"
      ]
     },
     "execution_count": 29,
     "metadata": {},
     "output_type": "execute_result"
    }
   ],
   "source": [
    "datos.RESULTADO.value_counts()"
   ]
  },
  {
   "cell_type": "code",
   "execution_count": 30,
   "metadata": {},
   "outputs": [
    {
     "data": {
      "text/plain": [
       "<matplotlib.axes._subplots.AxesSubplot at 0x1da530aa748>"
      ]
     },
     "execution_count": 30,
     "metadata": {},
     "output_type": "execute_result"
    },
    {
     "data": {
      "image/png": "[encoded data removed]",
      "text/plain": [
       "<Figure size 432x288 with 1 Axes>"
      ]
     },
     "metadata": {
      "needs_background": "light"
     },
     "output_type": "display_data"
    }
   ],
   "source": [
    "datos.RESULTADO.value_counts().plot.bar()"
   ]
  },
  {
   "cell_type": "code",
   "execution_count": 31,
   "metadata": {},
   "outputs": [
    {
     "data": {
      "text/plain": [
       "<matplotlib.axes._subplots.AxesSubplot at 0x1da53ca06c8>"
      ]
     },
     "execution_count": 31,
     "metadata": {},
     "output_type": "execute_result"
    },
    {
     "data": {
      "image/png": "[encoded data removed]",
      "text/plain": [
       "<Figure size 432x288 with 1 Axes>"
      ]
     },
     "metadata": {},
     "output_type": "display_data"
    }
   ],
   "source": [
    "datos.RESULTADO.value_counts(sort=False).plot.pie()"
   ]
  },
  {
   "cell_type": "code",
   "execution_count": 33,
   "metadata": {},
   "outputs": [
    {
     "data": {
      "text/plain": [
       "<matplotlib.axes._subplots.AxesSubplot at 0x1da54238b48>"
      ]
     },
     "execution_count": 33,
     "metadata": {},
     "output_type": "execute_result"
    },
    {
     "data": {
      "image/png": "[encoded data removed]",
      "text/plain": [
       "<Figure size 432x288 with 1 Axes>"
      ]
     },
     "metadata": {
      "needs_background": "light"
     },
     "output_type": "display_data"
    }
   ],
   "source": [
    "datos.RESULTADO.value_counts(sort=False, normalize=True).plot()"
   ]
  },
  {
   "cell_type": "code",
   "execution_count": 41,
   "metadata": {},
   "outputs": [],
   "source": [
    "def graficar(df, columna):\n",
    "    plt.title(\"Ponderación de \"+ columna)\n",
    "    datos[columna].value_counts(sort=False).plot.pie()"
   ]
  },
  {
   "cell_type": "code",
   "execution_count": 42,
   "metadata": {},
   "outputs": [
    {
     "data": {
      "image/png": "[encoded data removed]",
      "text/plain": [
       "<Figure size 432x288 with 1 Axes>"
      ]
     },
     "metadata": {},
     "output_type": "display_data"
    }
   ],
   "source": [
    "graficar(datos, \"RESULTADO\")"
   ]
  },
  {
   "cell_type": "code",
   "execution_count": 43,
   "metadata": {},
   "outputs": [
    {
     "data": {
      "image/png": "[encoded data removed]",
      "text/plain": [
       "<Figure size 432x288 with 1 Axes>"
      ]
     },
     "metadata": {},
     "output_type": "display_data"
    }
   ],
   "source": [
    "graficar(datos, \"ENTIDAD_UM\")"
   ]
  },
  {
   "cell_type": "code",
   "execution_count": 46,
   "metadata": {},
   "outputs": [
    {
     "data": {
      "text/plain": [
       "<matplotlib.axes._subplots.AxesSubplot at 0x1da544a2408>"
      ]
     },
     "execution_count": 46,
     "metadata": {},
     "output_type": "execute_result"
    },
    {
     "data": {
      "image/png": "[encoded data removed]",
      "text/plain": [
       "<Figure size 432x288 with 1 Axes>"
      ]
     },
     "metadata": {
      "needs_background": "light"
     },
     "output_type": "display_data"
    }
   ],
   "source": [
    "datos.EDAD.hist()"
   ]
  },
  {
   "cell_type": "code",
   "execution_count": 47,
   "metadata": {},
   "outputs": [
    {
     "data": {
      "text/plain": [
       "<matplotlib.axes._subplots.AxesSubplot at 0x1da54509d08>"
      ]
     },
     "execution_count": 47,
     "metadata": {},
     "output_type": "execute_result"
    },
    {
     "data": {
      "image/png": "[encoded data removed]",
      "text/plain": [
       "<Figure size 432x288 with 1 Axes>"
      ]
     },
     "metadata": {
      "needs_background": "light"
     },
     "output_type": "display_data"
    }
   ],
   "source": [
    "datos.EDAD.hist(bins=50)"
   ]
  },
  {
   "cell_type": "code",
   "execution_count": 48,
   "metadata": {},
   "outputs": [
    {
     "data": {
      "text/plain": [
       "array([[<matplotlib.axes._subplots.AxesSubplot object at 0x000001DA542E4B88>,\n",
       "        <matplotlib.axes._subplots.AxesSubplot object at 0x000001DA542F1DC8>,\n",
       "        <matplotlib.axes._subplots.AxesSubplot object at 0x000001DA543DCE88>,\n",
       "        <matplotlib.axes._subplots.AxesSubplot object at 0x000001DA543CDDC8>,\n",
       "        <matplotlib.axes._subplots.AxesSubplot object at 0x000001DA54580988>],\n",
       "       [<matplotlib.axes._subplots.AxesSubplot object at 0x000001DA545B9A88>,\n",
       "        <matplotlib.axes._subplots.AxesSubplot object at 0x000001DA545F1B88>,\n",
       "        <matplotlib.axes._subplots.AxesSubplot object at 0x000001DA5462AC88>,\n",
       "        <matplotlib.axes._subplots.AxesSubplot object at 0x000001DA54634888>,\n",
       "        <matplotlib.axes._subplots.AxesSubplot object at 0x000001DA5466DA48>],\n",
       "       [<matplotlib.axes._subplots.AxesSubplot object at 0x000001DA546D8048>,\n",
       "        <matplotlib.axes._subplots.AxesSubplot object at 0x000001DA547110C8>,\n",
       "        <matplotlib.axes._subplots.AxesSubplot object at 0x000001DA547491C8>,\n",
       "        <matplotlib.axes._subplots.AxesSubplot object at 0x000001DA54781308>,\n",
       "        <matplotlib.axes._subplots.AxesSubplot object at 0x000001DA547BB408>],\n",
       "       [<matplotlib.axes._subplots.AxesSubplot object at 0x000001DA547F2508>,\n",
       "        <matplotlib.axes._subplots.AxesSubplot object at 0x000001DA5512B5C8>,\n",
       "        <matplotlib.axes._subplots.AxesSubplot object at 0x000001DA551646C8>,\n",
       "        <matplotlib.axes._subplots.AxesSubplot object at 0x000001DA5519E7C8>,\n",
       "        <matplotlib.axes._subplots.AxesSubplot object at 0x000001DA551D7908>],\n",
       "       [<matplotlib.axes._subplots.AxesSubplot object at 0x000001DA5520FA08>,\n",
       "        <matplotlib.axes._subplots.AxesSubplot object at 0x000001DA55249AC8>,\n",
       "        <matplotlib.axes._subplots.AxesSubplot object at 0x000001DA55280C08>,\n",
       "        <matplotlib.axes._subplots.AxesSubplot object at 0x000001DA5824AD08>,\n",
       "        <matplotlib.axes._subplots.AxesSubplot object at 0x000001DA58282E08>],\n",
       "       [<matplotlib.axes._subplots.AxesSubplot object at 0x000001DA582BAF48>,\n",
       "        <matplotlib.axes._subplots.AxesSubplot object at 0x000001DA582F7088>,\n",
       "        <matplotlib.axes._subplots.AxesSubplot object at 0x000001DA58330108>,\n",
       "        <matplotlib.axes._subplots.AxesSubplot object at 0x000001DA58368248>,\n",
       "        <matplotlib.axes._subplots.AxesSubplot object at 0x000001DA583A1448>]],\n",
       "      dtype=object)"
      ]
     },
     "execution_count": 48,
     "metadata": {},
     "output_type": "execute_result"
    },
    {
     "data": {
      "image/png": "[encoded data removed]",
      "text/plain": [
       "<Figure size 1008x1080 with 30 Axes>"
      ]
     },
     "metadata": {
      "needs_background": "light"
     },
     "output_type": "display_data"
    }
   ],
   "source": [
    "\n",
    "datos.hist(figsize=(14,15), bins=50)"
   ]
  },
  {
   "cell_type": "code",
   "execution_count": null,
   "metadata": {},
   "outputs": [],
   "source": [
    "datos..hist(figsize=(14,15))"
   ]
  },
  {
   "cell_type": "code",
   "execution_count": 51,
   "metadata": {},
   "outputs": [
    {
     "data": {
      "text/plain": [
       "['Catálogo ORIGEN',\n",
       " 'Catálogo SECTOR',\n",
       " 'Catálogo SEXO',\n",
       " 'Catálogo TIPO_PACIENTE',\n",
       " 'Catálogo SI_NO',\n",
       " 'Catálogo NACIONALIDAD',\n",
       " 'Catálogo RESULTADO',\n",
       " 'Catálogo de ENTIDADES',\n",
       " 'Catálogo MUNICIPIOS']"
      ]
     },
     "execution_count": 51,
     "metadata": {},
     "output_type": "execute_result"
    }
   ],
   "source": [
    "xl = pd.ExcelFile('../data/catalogo_2020-05-17.xlsx')\n",
    "xl.sheet_names"
   ]
  },
  {
   "cell_type": "code",
   "execution_count": 79,
   "metadata": {},
   "outputs": [
    {
     "name": "stdout",
     "output_type": "stream",
     "text": [
      "Catálogo ORIGEN\n",
      "Catálogo SECTOR\n",
      "Catálogo SEXO\n",
      "Catálogo TIPO_PACIENTE\n",
      "Catálogo SI_NO\n",
      "Catálogo NACIONALIDAD\n",
      "Catálogo RESULTADO\n",
      "Catálogo de ENTIDADES\n",
      "Catálogo MUNICIPIOS\n"
     ]
    }
   ],
   "source": [
    "dict_catalogo={}\n",
    "for hoja in xl.sheet_names:\n",
    "    if \"Catálogo RESULTADO\" == hoja:\n",
    "        dict_catalogo[hoja]=pd.read_excel('../data/catalogo_2020-05-17.xlsx', sheet_name=hoja, skiprows=1)\n",
    "    else:\n",
    "        dict_catalogo[hoja]=pd.read_excel('../data/catalogo_2020-05-17.xlsx', sheet_name=hoja)\n",
    "    print(hoja)"
   ]
  },
  {
   "cell_type": "code",
   "execution_count": 57,
   "metadata": {},
   "outputs": [
    {
     "data": {
      "text/html": [
       "<div>\n",
       "<style scoped>\n",
       "    .dataframe tbody tr th:only-of-type {\n",
       "        vertical-align: middle;\n",
       "    }\n",
       "\n",
       "    .dataframe tbody tr th {\n",
       "        vertical-align: top;\n",
       "    }\n",
       "\n",
       "    .dataframe thead th {\n",
       "        text-align: right;\n",
       "    }\n",
       "</style>\n",
       "<table border=\"1\" class=\"dataframe\">\n",
       "  <thead>\n",
       "    <tr style=\"text-align: right;\">\n",
       "      <th></th>\n",
       "      <th>CLAVE</th>\n",
       "      <th>DESCRIPCIÓN</th>\n",
       "    </tr>\n",
       "  </thead>\n",
       "  <tbody>\n",
       "    <tr>\n",
       "      <th>0</th>\n",
       "      <td>1</td>\n",
       "      <td>USMER</td>\n",
       "    </tr>\n",
       "    <tr>\n",
       "      <th>1</th>\n",
       "      <td>2</td>\n",
       "      <td>FUERA DE USMER</td>\n",
       "    </tr>\n",
       "    <tr>\n",
       "      <th>2</th>\n",
       "      <td>99</td>\n",
       "      <td>NO ESPECIFICADO</td>\n",
       "    </tr>\n",
       "  </tbody>\n",
       "</table>\n",
       "</div>"
      ],
      "text/plain": [
       "   CLAVE      DESCRIPCIÓN\n",
       "0      1            USMER\n",
       "1      2   FUERA DE USMER\n",
       "2     99  NO ESPECIFICADO"
      ]
     },
     "execution_count": 57,
     "metadata": {},
     "output_type": "execute_result"
    }
   ],
   "source": [
    "dict_catalogo[\"Catálogo ORIGEN\"]"
   ]
  },
  {
   "cell_type": "code",
   "execution_count": 80,
   "metadata": {},
   "outputs": [
    {
     "data": {
      "text/html": [
       "<div>\n",
       "<style scoped>\n",
       "    .dataframe tbody tr th:only-of-type {\n",
       "        vertical-align: middle;\n",
       "    }\n",
       "\n",
       "    .dataframe tbody tr th {\n",
       "        vertical-align: top;\n",
       "    }\n",
       "\n",
       "    .dataframe thead th {\n",
       "        text-align: right;\n",
       "    }\n",
       "</style>\n",
       "<table border=\"1\" class=\"dataframe\">\n",
       "  <thead>\n",
       "    <tr style=\"text-align: right;\">\n",
       "      <th></th>\n",
       "      <th>CLAVE</th>\n",
       "      <th>DESCRIPCIÓN</th>\n",
       "    </tr>\n",
       "  </thead>\n",
       "  <tbody>\n",
       "    <tr>\n",
       "      <th>0</th>\n",
       "      <td>1</td>\n",
       "      <td>Positivo SARS-CoV-2</td>\n",
       "    </tr>\n",
       "    <tr>\n",
       "      <th>1</th>\n",
       "      <td>2</td>\n",
       "      <td>No positivo SARS-CoV-2</td>\n",
       "    </tr>\n",
       "    <tr>\n",
       "      <th>2</th>\n",
       "      <td>3</td>\n",
       "      <td>Resultado pendiente</td>\n",
       "    </tr>\n",
       "  </tbody>\n",
       "</table>\n",
       "</div>"
      ],
      "text/plain": [
       "   CLAVE             DESCRIPCIÓN\n",
       "0      1     Positivo SARS-CoV-2\n",
       "1      2  No positivo SARS-CoV-2\n",
       "2      3     Resultado pendiente"
      ]
     },
     "execution_count": 80,
     "metadata": {},
     "output_type": "execute_result"
    }
   ],
   "source": [
    "dict_catalogo[\"Catálogo RESULTADO\"]"
   ]
  },
  {
   "cell_type": "code",
   "execution_count": 64,
   "metadata": {},
   "outputs": [
    {
     "data": {
      "text/plain": [
       "(172294, 35)"
      ]
     },
     "execution_count": 64,
     "metadata": {},
     "output_type": "execute_result"
    }
   ],
   "source": [
    "datos.shape"
   ]
  },
  {
   "cell_type": "code",
   "execution_count": 86,
   "metadata": {},
   "outputs": [
    {
     "data": {
      "text/html": [
       "<div>\n",
       "<style scoped>\n",
       "    .dataframe tbody tr th:only-of-type {\n",
       "        vertical-align: middle;\n",
       "    }\n",
       "\n",
       "    .dataframe tbody tr th {\n",
       "        vertical-align: top;\n",
       "    }\n",
       "\n",
       "    .dataframe thead th {\n",
       "        text-align: right;\n",
       "    }\n",
       "</style>\n",
       "<table border=\"1\" class=\"dataframe\">\n",
       "  <thead>\n",
       "    <tr style=\"text-align: right;\">\n",
       "      <th></th>\n",
       "      <th>FECHA_ACTUALIZACION</th>\n",
       "      <th>ID_REGISTRO</th>\n",
       "      <th>ORIGEN</th>\n",
       "      <th>SECTOR</th>\n",
       "      <th>ENTIDAD_UM</th>\n",
       "      <th>SEXO</th>\n",
       "      <th>ENTIDAD_NAC</th>\n",
       "      <th>ENTIDAD_RES</th>\n",
       "      <th>MUNICIPIO_RES</th>\n",
       "      <th>TIPO_PACIENTE</th>\n",
       "      <th>...</th>\n",
       "      <th>PAIS_ORIGEN</th>\n",
       "      <th>UCI</th>\n",
       "      <th>CLAVE_x</th>\n",
       "      <th>DESCRIPCIÓN_x</th>\n",
       "      <th>CLAVE_y</th>\n",
       "      <th>DESCRIPCIÓN_y</th>\n",
       "      <th>CLAVE_x</th>\n",
       "      <th>DESCRIPCIÓN_x</th>\n",
       "      <th>CLAVE_y</th>\n",
       "      <th>DESCRIPCIÓN_y</th>\n",
       "    </tr>\n",
       "  </thead>\n",
       "  <tbody>\n",
       "    <tr>\n",
       "      <th>0</th>\n",
       "      <td>2020-05-17</td>\n",
       "      <td>098894</td>\n",
       "      <td>2</td>\n",
       "      <td>3</td>\n",
       "      <td>2</td>\n",
       "      <td>2</td>\n",
       "      <td>2</td>\n",
       "      <td>2</td>\n",
       "      <td>2</td>\n",
       "      <td>1</td>\n",
       "      <td>...</td>\n",
       "      <td>99</td>\n",
       "      <td>97</td>\n",
       "      <td>1</td>\n",
       "      <td>Positivo SARS-CoV-2</td>\n",
       "      <td>1</td>\n",
       "      <td>Positivo SARS-CoV-2</td>\n",
       "      <td>1</td>\n",
       "      <td>Positivo SARS-CoV-2</td>\n",
       "      <td>1</td>\n",
       "      <td>Positivo SARS-CoV-2</td>\n",
       "    </tr>\n",
       "    <tr>\n",
       "      <th>1</th>\n",
       "      <td>2020-05-17</td>\n",
       "      <td>0cb732</td>\n",
       "      <td>2</td>\n",
       "      <td>4</td>\n",
       "      <td>9</td>\n",
       "      <td>2</td>\n",
       "      <td>9</td>\n",
       "      <td>15</td>\n",
       "      <td>31</td>\n",
       "      <td>2</td>\n",
       "      <td>...</td>\n",
       "      <td>99</td>\n",
       "      <td>2</td>\n",
       "      <td>1</td>\n",
       "      <td>Positivo SARS-CoV-2</td>\n",
       "      <td>1</td>\n",
       "      <td>Positivo SARS-CoV-2</td>\n",
       "      <td>1</td>\n",
       "      <td>Positivo SARS-CoV-2</td>\n",
       "      <td>1</td>\n",
       "      <td>Positivo SARS-CoV-2</td>\n",
       "    </tr>\n",
       "    <tr>\n",
       "      <th>2</th>\n",
       "      <td>2020-05-17</td>\n",
       "      <td>137359</td>\n",
       "      <td>2</td>\n",
       "      <td>4</td>\n",
       "      <td>2</td>\n",
       "      <td>1</td>\n",
       "      <td>1</td>\n",
       "      <td>2</td>\n",
       "      <td>2</td>\n",
       "      <td>1</td>\n",
       "      <td>...</td>\n",
       "      <td>99</td>\n",
       "      <td>97</td>\n",
       "      <td>1</td>\n",
       "      <td>Positivo SARS-CoV-2</td>\n",
       "      <td>1</td>\n",
       "      <td>Positivo SARS-CoV-2</td>\n",
       "      <td>1</td>\n",
       "      <td>Positivo SARS-CoV-2</td>\n",
       "      <td>1</td>\n",
       "      <td>Positivo SARS-CoV-2</td>\n",
       "    </tr>\n",
       "    <tr>\n",
       "      <th>3</th>\n",
       "      <td>2020-05-17</td>\n",
       "      <td>066f8f</td>\n",
       "      <td>2</td>\n",
       "      <td>4</td>\n",
       "      <td>30</td>\n",
       "      <td>1</td>\n",
       "      <td>21</td>\n",
       "      <td>30</td>\n",
       "      <td>193</td>\n",
       "      <td>2</td>\n",
       "      <td>...</td>\n",
       "      <td>99</td>\n",
       "      <td>2</td>\n",
       "      <td>1</td>\n",
       "      <td>Positivo SARS-CoV-2</td>\n",
       "      <td>1</td>\n",
       "      <td>Positivo SARS-CoV-2</td>\n",
       "      <td>1</td>\n",
       "      <td>Positivo SARS-CoV-2</td>\n",
       "      <td>1</td>\n",
       "      <td>Positivo SARS-CoV-2</td>\n",
       "    </tr>\n",
       "    <tr>\n",
       "      <th>4</th>\n",
       "      <td>2020-05-17</td>\n",
       "      <td>027a23</td>\n",
       "      <td>2</td>\n",
       "      <td>4</td>\n",
       "      <td>9</td>\n",
       "      <td>2</td>\n",
       "      <td>21</td>\n",
       "      <td>9</td>\n",
       "      <td>15</td>\n",
       "      <td>2</td>\n",
       "      <td>...</td>\n",
       "      <td>99</td>\n",
       "      <td>2</td>\n",
       "      <td>1</td>\n",
       "      <td>Positivo SARS-CoV-2</td>\n",
       "      <td>1</td>\n",
       "      <td>Positivo SARS-CoV-2</td>\n",
       "      <td>1</td>\n",
       "      <td>Positivo SARS-CoV-2</td>\n",
       "      <td>1</td>\n",
       "      <td>Positivo SARS-CoV-2</td>\n",
       "    </tr>\n",
       "  </tbody>\n",
       "</table>\n",
       "<p>5 rows × 43 columns</p>\n",
       "</div>"
      ],
      "text/plain": [
       "  FECHA_ACTUALIZACION ID_REGISTRO  ORIGEN  SECTOR  ENTIDAD_UM  SEXO  \\\n",
       "0          2020-05-17      098894       2       3           2     2   \n",
       "1          2020-05-17      0cb732       2       4           9     2   \n",
       "2          2020-05-17      137359       2       4           2     1   \n",
       "3          2020-05-17      066f8f       2       4          30     1   \n",
       "4          2020-05-17      027a23       2       4           9     2   \n",
       "\n",
       "   ENTIDAD_NAC  ENTIDAD_RES  MUNICIPIO_RES  TIPO_PACIENTE  ... PAIS_ORIGEN  \\\n",
       "0            2            2              2              1  ...          99   \n",
       "1            9           15             31              2  ...          99   \n",
       "2            1            2              2              1  ...          99   \n",
       "3           21           30            193              2  ...          99   \n",
       "4           21            9             15              2  ...          99   \n",
       "\n",
       "  UCI  CLAVE_x        DESCRIPCIÓN_x  CLAVE_y        DESCRIPCIÓN_y  CLAVE_x  \\\n",
       "0  97        1  Positivo SARS-CoV-2        1  Positivo SARS-CoV-2        1   \n",
       "1   2        1  Positivo SARS-CoV-2        1  Positivo SARS-CoV-2        1   \n",
       "2  97        1  Positivo SARS-CoV-2        1  Positivo SARS-CoV-2        1   \n",
       "3   2        1  Positivo SARS-CoV-2        1  Positivo SARS-CoV-2        1   \n",
       "4   2        1  Positivo SARS-CoV-2        1  Positivo SARS-CoV-2        1   \n",
       "\n",
       "         DESCRIPCIÓN_x  CLAVE_y        DESCRIPCIÓN_y  \n",
       "0  Positivo SARS-CoV-2        1  Positivo SARS-CoV-2  \n",
       "1  Positivo SARS-CoV-2        1  Positivo SARS-CoV-2  \n",
       "2  Positivo SARS-CoV-2        1  Positivo SARS-CoV-2  \n",
       "3  Positivo SARS-CoV-2        1  Positivo SARS-CoV-2  \n",
       "4  Positivo SARS-CoV-2        1  Positivo SARS-CoV-2  \n",
       "\n",
       "[5 rows x 43 columns]"
      ]
     },
     "execution_count": 86,
     "metadata": {},
     "output_type": "execute_result"
    }
   ],
   "source": [
    "datos = pd.merge(datos, dict_catalogo[\"Catálogo RESULTADO\"], left_on=\"RESULTADO\", right_on=\"CLAVE\").head()\n",
    "datos"
   ]
  },
  {
   "cell_type": "code",
   "execution_count": 87,
   "metadata": {},
   "outputs": [
    {
     "ename": "KeyError",
     "evalue": "'DESCRIPCIÓN'",
     "output_type": "error",
     "traceback": [
      "\u001b[1;31m---------------------------------------------------------------------------\u001b[0m",
      "\u001b[1;31mKeyError\u001b[0m                                  Traceback (most recent call last)",
      "\u001b[1;32m~\\Documents\\Anaconda\\lib\\site-packages\\pandas\\core\\indexes\\base.py\u001b[0m in \u001b[0;36mget_loc\u001b[1;34m(self, key, method, tolerance)\u001b[0m\n\u001b[0;32m   2645\u001b[0m             \u001b[1;32mtry\u001b[0m\u001b[1;33m:\u001b[0m\u001b[1;33m\u001b[0m\u001b[1;33m\u001b[0m\u001b[0m\n\u001b[1;32m-> 2646\u001b[1;33m                 \u001b[1;32mreturn\u001b[0m \u001b[0mself\u001b[0m\u001b[1;33m.\u001b[0m\u001b[0m_engine\u001b[0m\u001b[1;33m.\u001b[0m\u001b[0mget_loc\u001b[0m\u001b[1;33m(\u001b[0m\u001b[0mkey\u001b[0m\u001b[1;33m)\u001b[0m\u001b[1;33m\u001b[0m\u001b[1;33m\u001b[0m\u001b[0m\n\u001b[0m\u001b[0;32m   2647\u001b[0m             \u001b[1;32mexcept\u001b[0m \u001b[0mKeyError\u001b[0m\u001b[1;33m:\u001b[0m\u001b[1;33m\u001b[0m\u001b[1;33m\u001b[0m\u001b[0m\n",
      "\u001b[1;32mpandas\\_libs\\index.pyx\u001b[0m in \u001b[0;36mpandas._libs.index.IndexEngine.get_loc\u001b[1;34m()\u001b[0m\n",
      "\u001b[1;32mpandas\\_libs\\index.pyx\u001b[0m in \u001b[0;36mpandas._libs.index.IndexEngine.get_loc\u001b[1;34m()\u001b[0m\n",
      "\u001b[1;32mpandas\\_libs\\index.pyx\u001b[0m in \u001b[0;36mpandas._libs.index.IndexEngine._get_loc_duplicates\u001b[1;34m()\u001b[0m\n",
      "\u001b[1;32mpandas\\_libs\\index.pyx\u001b[0m in \u001b[0;36mpandas._libs.index.IndexEngine._maybe_get_bool_indexer\u001b[1;34m()\u001b[0m\n",
      "\u001b[1;31mKeyError\u001b[0m: 'DESCRIPCIÓN'",
      "\nDuring handling of the above exception, another exception occurred:\n",
      "\u001b[1;31mKeyError\u001b[0m                                  Traceback (most recent call last)",
      "\u001b[1;32m<ipython-input-87-d53d69ab64b2>\u001b[0m in \u001b[0;36m<module>\u001b[1;34m\u001b[0m\n\u001b[1;32m----> 1\u001b[1;33m \u001b[0mgraficar\u001b[0m\u001b[1;33m(\u001b[0m\u001b[0mdatos\u001b[0m\u001b[1;33m,\u001b[0m \u001b[1;34m\"DESCRIPCIÓN\"\u001b[0m\u001b[1;33m)\u001b[0m\u001b[1;33m\u001b[0m\u001b[1;33m\u001b[0m\u001b[0m\n\u001b[0m",
      "\u001b[1;32m<ipython-input-41-69320044a74e>\u001b[0m in \u001b[0;36mgraficar\u001b[1;34m(df, columna)\u001b[0m\n\u001b[0;32m      1\u001b[0m \u001b[1;32mdef\u001b[0m \u001b[0mgraficar\u001b[0m\u001b[1;33m(\u001b[0m\u001b[0mdf\u001b[0m\u001b[1;33m,\u001b[0m \u001b[0mcolumna\u001b[0m\u001b[1;33m)\u001b[0m\u001b[1;33m:\u001b[0m\u001b[1;33m\u001b[0m\u001b[1;33m\u001b[0m\u001b[0m\n\u001b[0;32m      2\u001b[0m     \u001b[0mplt\u001b[0m\u001b[1;33m.\u001b[0m\u001b[0mtitle\u001b[0m\u001b[1;33m(\u001b[0m\u001b[1;34m\"Ponderación de \"\u001b[0m\u001b[1;33m+\u001b[0m \u001b[0mcolumna\u001b[0m\u001b[1;33m)\u001b[0m\u001b[1;33m\u001b[0m\u001b[1;33m\u001b[0m\u001b[0m\n\u001b[1;32m----> 3\u001b[1;33m     \u001b[0mdatos\u001b[0m\u001b[1;33m[\u001b[0m\u001b[0mcolumna\u001b[0m\u001b[1;33m]\u001b[0m\u001b[1;33m.\u001b[0m\u001b[0mvalue_counts\u001b[0m\u001b[1;33m(\u001b[0m\u001b[0msort\u001b[0m\u001b[1;33m=\u001b[0m\u001b[1;32mFalse\u001b[0m\u001b[1;33m)\u001b[0m\u001b[1;33m.\u001b[0m\u001b[0mplot\u001b[0m\u001b[1;33m.\u001b[0m\u001b[0mpie\u001b[0m\u001b[1;33m(\u001b[0m\u001b[1;33m)\u001b[0m\u001b[1;33m\u001b[0m\u001b[1;33m\u001b[0m\u001b[0m\n\u001b[0m",
      "\u001b[1;32m~\\Documents\\Anaconda\\lib\\site-packages\\pandas\\core\\frame.py\u001b[0m in \u001b[0;36m__getitem__\u001b[1;34m(self, key)\u001b[0m\n\u001b[0;32m   2798\u001b[0m             \u001b[1;32mif\u001b[0m \u001b[0mself\u001b[0m\u001b[1;33m.\u001b[0m\u001b[0mcolumns\u001b[0m\u001b[1;33m.\u001b[0m\u001b[0mnlevels\u001b[0m \u001b[1;33m>\u001b[0m \u001b[1;36m1\u001b[0m\u001b[1;33m:\u001b[0m\u001b[1;33m\u001b[0m\u001b[1;33m\u001b[0m\u001b[0m\n\u001b[0;32m   2799\u001b[0m                 \u001b[1;32mreturn\u001b[0m \u001b[0mself\u001b[0m\u001b[1;33m.\u001b[0m\u001b[0m_getitem_multilevel\u001b[0m\u001b[1;33m(\u001b[0m\u001b[0mkey\u001b[0m\u001b[1;33m)\u001b[0m\u001b[1;33m\u001b[0m\u001b[1;33m\u001b[0m\u001b[0m\n\u001b[1;32m-> 2800\u001b[1;33m             \u001b[0mindexer\u001b[0m \u001b[1;33m=\u001b[0m \u001b[0mself\u001b[0m\u001b[1;33m.\u001b[0m\u001b[0mcolumns\u001b[0m\u001b[1;33m.\u001b[0m\u001b[0mget_loc\u001b[0m\u001b[1;33m(\u001b[0m\u001b[0mkey\u001b[0m\u001b[1;33m)\u001b[0m\u001b[1;33m\u001b[0m\u001b[1;33m\u001b[0m\u001b[0m\n\u001b[0m\u001b[0;32m   2801\u001b[0m             \u001b[1;32mif\u001b[0m \u001b[0mis_integer\u001b[0m\u001b[1;33m(\u001b[0m\u001b[0mindexer\u001b[0m\u001b[1;33m)\u001b[0m\u001b[1;33m:\u001b[0m\u001b[1;33m\u001b[0m\u001b[1;33m\u001b[0m\u001b[0m\n\u001b[0;32m   2802\u001b[0m                 \u001b[0mindexer\u001b[0m \u001b[1;33m=\u001b[0m \u001b[1;33m[\u001b[0m\u001b[0mindexer\u001b[0m\u001b[1;33m]\u001b[0m\u001b[1;33m\u001b[0m\u001b[1;33m\u001b[0m\u001b[0m\n",
      "\u001b[1;32m~\\Documents\\Anaconda\\lib\\site-packages\\pandas\\core\\indexes\\base.py\u001b[0m in \u001b[0;36mget_loc\u001b[1;34m(self, key, method, tolerance)\u001b[0m\n\u001b[0;32m   2646\u001b[0m                 \u001b[1;32mreturn\u001b[0m \u001b[0mself\u001b[0m\u001b[1;33m.\u001b[0m\u001b[0m_engine\u001b[0m\u001b[1;33m.\u001b[0m\u001b[0mget_loc\u001b[0m\u001b[1;33m(\u001b[0m\u001b[0mkey\u001b[0m\u001b[1;33m)\u001b[0m\u001b[1;33m\u001b[0m\u001b[1;33m\u001b[0m\u001b[0m\n\u001b[0;32m   2647\u001b[0m             \u001b[1;32mexcept\u001b[0m \u001b[0mKeyError\u001b[0m\u001b[1;33m:\u001b[0m\u001b[1;33m\u001b[0m\u001b[1;33m\u001b[0m\u001b[0m\n\u001b[1;32m-> 2648\u001b[1;33m                 \u001b[1;32mreturn\u001b[0m \u001b[0mself\u001b[0m\u001b[1;33m.\u001b[0m\u001b[0m_engine\u001b[0m\u001b[1;33m.\u001b[0m\u001b[0mget_loc\u001b[0m\u001b[1;33m(\u001b[0m\u001b[0mself\u001b[0m\u001b[1;33m.\u001b[0m\u001b[0m_maybe_cast_indexer\u001b[0m\u001b[1;33m(\u001b[0m\u001b[0mkey\u001b[0m\u001b[1;33m)\u001b[0m\u001b[1;33m)\u001b[0m\u001b[1;33m\u001b[0m\u001b[1;33m\u001b[0m\u001b[0m\n\u001b[0m\u001b[0;32m   2649\u001b[0m         \u001b[0mindexer\u001b[0m \u001b[1;33m=\u001b[0m \u001b[0mself\u001b[0m\u001b[1;33m.\u001b[0m\u001b[0mget_indexer\u001b[0m\u001b[1;33m(\u001b[0m\u001b[1;33m[\u001b[0m\u001b[0mkey\u001b[0m\u001b[1;33m]\u001b[0m\u001b[1;33m,\u001b[0m \u001b[0mmethod\u001b[0m\u001b[1;33m=\u001b[0m\u001b[0mmethod\u001b[0m\u001b[1;33m,\u001b[0m \u001b[0mtolerance\u001b[0m\u001b[1;33m=\u001b[0m\u001b[0mtolerance\u001b[0m\u001b[1;33m)\u001b[0m\u001b[1;33m\u001b[0m\u001b[1;33m\u001b[0m\u001b[0m\n\u001b[0;32m   2650\u001b[0m         \u001b[1;32mif\u001b[0m \u001b[0mindexer\u001b[0m\u001b[1;33m.\u001b[0m\u001b[0mndim\u001b[0m \u001b[1;33m>\u001b[0m \u001b[1;36m1\u001b[0m \u001b[1;32mor\u001b[0m \u001b[0mindexer\u001b[0m\u001b[1;33m.\u001b[0m\u001b[0msize\u001b[0m \u001b[1;33m>\u001b[0m \u001b[1;36m1\u001b[0m\u001b[1;33m:\u001b[0m\u001b[1;33m\u001b[0m\u001b[1;33m\u001b[0m\u001b[0m\n",
      "\u001b[1;32mpandas\\_libs\\index.pyx\u001b[0m in \u001b[0;36mpandas._libs.index.IndexEngine.get_loc\u001b[1;34m()\u001b[0m\n",
      "\u001b[1;32mpandas\\_libs\\index.pyx\u001b[0m in \u001b[0;36mpandas._libs.index.IndexEngine.get_loc\u001b[1;34m()\u001b[0m\n",
      "\u001b[1;32mpandas\\_libs\\index.pyx\u001b[0m in \u001b[0;36mpandas._libs.index.IndexEngine._get_loc_duplicates\u001b[1;34m()\u001b[0m\n",
      "\u001b[1;32mpandas\\_libs\\index.pyx\u001b[0m in \u001b[0;36mpandas._libs.index.IndexEngine._maybe_get_bool_indexer\u001b[1;34m()\u001b[0m\n",
      "\u001b[1;31mKeyError\u001b[0m: 'DESCRIPCIÓN'"
     ]
    },
    {
     "data": {
      "image/png": "[encoded data removed]",
      "text/plain": [
       "<Figure size 432x288 with 1 Axes>"
      ]
     },
     "metadata": {
      "needs_background": "light"
     },
     "output_type": "display_data"
    }
   ],
   "source": [
    "graficar(datos, \"DESCRIPCIÓN\")"
   ]
  },
  {
   "cell_type": "code",
   "execution_count": 84,
   "metadata": {},
   "outputs": [
    {
     "ename": "KeyError",
     "evalue": "'DESCRIPCIÓN'",
     "output_type": "error",
     "traceback": [
      "\u001b[1;31m---------------------------------------------------------------------------\u001b[0m",
      "\u001b[1;31mKeyError\u001b[0m                                  Traceback (most recent call last)",
      "\u001b[1;32m~\\Documents\\Anaconda\\lib\\site-packages\\pandas\\core\\indexes\\base.py\u001b[0m in \u001b[0;36mget_loc\u001b[1;34m(self, key, method, tolerance)\u001b[0m\n\u001b[0;32m   2645\u001b[0m             \u001b[1;32mtry\u001b[0m\u001b[1;33m:\u001b[0m\u001b[1;33m\u001b[0m\u001b[1;33m\u001b[0m\u001b[0m\n\u001b[1;32m-> 2646\u001b[1;33m                 \u001b[1;32mreturn\u001b[0m \u001b[0mself\u001b[0m\u001b[1;33m.\u001b[0m\u001b[0m_engine\u001b[0m\u001b[1;33m.\u001b[0m\u001b[0mget_loc\u001b[0m\u001b[1;33m(\u001b[0m\u001b[0mkey\u001b[0m\u001b[1;33m)\u001b[0m\u001b[1;33m\u001b[0m\u001b[1;33m\u001b[0m\u001b[0m\n\u001b[0m\u001b[0;32m   2647\u001b[0m             \u001b[1;32mexcept\u001b[0m \u001b[0mKeyError\u001b[0m\u001b[1;33m:\u001b[0m\u001b[1;33m\u001b[0m\u001b[1;33m\u001b[0m\u001b[0m\n",
      "\u001b[1;32mpandas\\_libs\\index.pyx\u001b[0m in \u001b[0;36mpandas._libs.index.IndexEngine.get_loc\u001b[1;34m()\u001b[0m\n",
      "\u001b[1;32mpandas\\_libs\\index.pyx\u001b[0m in \u001b[0;36mpandas._libs.index.IndexEngine.get_loc\u001b[1;34m()\u001b[0m\n",
      "\u001b[1;32mpandas\\_libs\\hashtable_class_helper.pxi\u001b[0m in \u001b[0;36mpandas._libs.hashtable.PyObjectHashTable.get_item\u001b[1;34m()\u001b[0m\n",
      "\u001b[1;32mpandas\\_libs\\hashtable_class_helper.pxi\u001b[0m in \u001b[0;36mpandas._libs.hashtable.PyObjectHashTable.get_item\u001b[1;34m()\u001b[0m\n",
      "\u001b[1;31mKeyError\u001b[0m: 'DESCRIPCIÓN'",
      "\nDuring handling of the above exception, another exception occurred:\n",
      "\u001b[1;31mKeyError\u001b[0m                                  Traceback (most recent call last)",
      "\u001b[1;32m<ipython-input-84-9ba7314d10fe>\u001b[0m in \u001b[0;36m<module>\u001b[1;34m\u001b[0m\n\u001b[1;32m----> 1\u001b[1;33m \u001b[0mdatos\u001b[0m\u001b[1;33m[\u001b[0m\u001b[1;34m\"DESCRIPCIÓN\"\u001b[0m\u001b[1;33m]\u001b[0m\u001b[1;33m.\u001b[0m\u001b[0mvalue_counts\u001b[0m\u001b[1;33m(\u001b[0m\u001b[1;33m)\u001b[0m\u001b[1;33m.\u001b[0m\u001b[0mplot\u001b[0m\u001b[1;33m.\u001b[0m\u001b[0mbar\u001b[0m\u001b[1;33m(\u001b[0m\u001b[1;33m)\u001b[0m\u001b[1;33m\u001b[0m\u001b[1;33m\u001b[0m\u001b[0m\n\u001b[0m",
      "\u001b[1;32m~\\Documents\\Anaconda\\lib\\site-packages\\pandas\\core\\frame.py\u001b[0m in \u001b[0;36m__getitem__\u001b[1;34m(self, key)\u001b[0m\n\u001b[0;32m   2798\u001b[0m             \u001b[1;32mif\u001b[0m \u001b[0mself\u001b[0m\u001b[1;33m.\u001b[0m\u001b[0mcolumns\u001b[0m\u001b[1;33m.\u001b[0m\u001b[0mnlevels\u001b[0m \u001b[1;33m>\u001b[0m \u001b[1;36m1\u001b[0m\u001b[1;33m:\u001b[0m\u001b[1;33m\u001b[0m\u001b[1;33m\u001b[0m\u001b[0m\n\u001b[0;32m   2799\u001b[0m                 \u001b[1;32mreturn\u001b[0m \u001b[0mself\u001b[0m\u001b[1;33m.\u001b[0m\u001b[0m_getitem_multilevel\u001b[0m\u001b[1;33m(\u001b[0m\u001b[0mkey\u001b[0m\u001b[1;33m)\u001b[0m\u001b[1;33m\u001b[0m\u001b[1;33m\u001b[0m\u001b[0m\n\u001b[1;32m-> 2800\u001b[1;33m             \u001b[0mindexer\u001b[0m \u001b[1;33m=\u001b[0m \u001b[0mself\u001b[0m\u001b[1;33m.\u001b[0m\u001b[0mcolumns\u001b[0m\u001b[1;33m.\u001b[0m\u001b[0mget_loc\u001b[0m\u001b[1;33m(\u001b[0m\u001b[0mkey\u001b[0m\u001b[1;33m)\u001b[0m\u001b[1;33m\u001b[0m\u001b[1;33m\u001b[0m\u001b[0m\n\u001b[0m\u001b[0;32m   2801\u001b[0m             \u001b[1;32mif\u001b[0m \u001b[0mis_integer\u001b[0m\u001b[1;33m(\u001b[0m\u001b[0mindexer\u001b[0m\u001b[1;33m)\u001b[0m\u001b[1;33m:\u001b[0m\u001b[1;33m\u001b[0m\u001b[1;33m\u001b[0m\u001b[0m\n\u001b[0;32m   2802\u001b[0m                 \u001b[0mindexer\u001b[0m \u001b[1;33m=\u001b[0m \u001b[1;33m[\u001b[0m\u001b[0mindexer\u001b[0m\u001b[1;33m]\u001b[0m\u001b[1;33m\u001b[0m\u001b[1;33m\u001b[0m\u001b[0m\n",
      "\u001b[1;32m~\\Documents\\Anaconda\\lib\\site-packages\\pandas\\core\\indexes\\base.py\u001b[0m in \u001b[0;36mget_loc\u001b[1;34m(self, key, method, tolerance)\u001b[0m\n\u001b[0;32m   2646\u001b[0m                 \u001b[1;32mreturn\u001b[0m \u001b[0mself\u001b[0m\u001b[1;33m.\u001b[0m\u001b[0m_engine\u001b[0m\u001b[1;33m.\u001b[0m\u001b[0mget_loc\u001b[0m\u001b[1;33m(\u001b[0m\u001b[0mkey\u001b[0m\u001b[1;33m)\u001b[0m\u001b[1;33m\u001b[0m\u001b[1;33m\u001b[0m\u001b[0m\n\u001b[0;32m   2647\u001b[0m             \u001b[1;32mexcept\u001b[0m \u001b[0mKeyError\u001b[0m\u001b[1;33m:\u001b[0m\u001b[1;33m\u001b[0m\u001b[1;33m\u001b[0m\u001b[0m\n\u001b[1;32m-> 2648\u001b[1;33m                 \u001b[1;32mreturn\u001b[0m \u001b[0mself\u001b[0m\u001b[1;33m.\u001b[0m\u001b[0m_engine\u001b[0m\u001b[1;33m.\u001b[0m\u001b[0mget_loc\u001b[0m\u001b[1;33m(\u001b[0m\u001b[0mself\u001b[0m\u001b[1;33m.\u001b[0m\u001b[0m_maybe_cast_indexer\u001b[0m\u001b[1;33m(\u001b[0m\u001b[0mkey\u001b[0m\u001b[1;33m)\u001b[0m\u001b[1;33m)\u001b[0m\u001b[1;33m\u001b[0m\u001b[1;33m\u001b[0m\u001b[0m\n\u001b[0m\u001b[0;32m   2649\u001b[0m         \u001b[0mindexer\u001b[0m \u001b[1;33m=\u001b[0m \u001b[0mself\u001b[0m\u001b[1;33m.\u001b[0m\u001b[0mget_indexer\u001b[0m\u001b[1;33m(\u001b[0m\u001b[1;33m[\u001b[0m\u001b[0mkey\u001b[0m\u001b[1;33m]\u001b[0m\u001b[1;33m,\u001b[0m \u001b[0mmethod\u001b[0m\u001b[1;33m=\u001b[0m\u001b[0mmethod\u001b[0m\u001b[1;33m,\u001b[0m \u001b[0mtolerance\u001b[0m\u001b[1;33m=\u001b[0m\u001b[0mtolerance\u001b[0m\u001b[1;33m)\u001b[0m\u001b[1;33m\u001b[0m\u001b[1;33m\u001b[0m\u001b[0m\n\u001b[0;32m   2650\u001b[0m         \u001b[1;32mif\u001b[0m \u001b[0mindexer\u001b[0m\u001b[1;33m.\u001b[0m\u001b[0mndim\u001b[0m \u001b[1;33m>\u001b[0m \u001b[1;36m1\u001b[0m \u001b[1;32mor\u001b[0m \u001b[0mindexer\u001b[0m\u001b[1;33m.\u001b[0m\u001b[0msize\u001b[0m \u001b[1;33m>\u001b[0m \u001b[1;36m1\u001b[0m\u001b[1;33m:\u001b[0m\u001b[1;33m\u001b[0m\u001b[1;33m\u001b[0m\u001b[0m\n",
      "\u001b[1;32mpandas\\_libs\\index.pyx\u001b[0m in \u001b[0;36mpandas._libs.index.IndexEngine.get_loc\u001b[1;34m()\u001b[0m\n",
      "\u001b[1;32mpandas\\_libs\\index.pyx\u001b[0m in \u001b[0;36mpandas._libs.index.IndexEngine.get_loc\u001b[1;34m()\u001b[0m\n",
      "\u001b[1;32mpandas\\_libs\\hashtable_class_helper.pxi\u001b[0m in \u001b[0;36mpandas._libs.hashtable.PyObjectHashTable.get_item\u001b[1;34m()\u001b[0m\n",
      "\u001b[1;32mpandas\\_libs\\hashtable_class_helper.pxi\u001b[0m in \u001b[0;36mpandas._libs.hashtable.PyObjectHashTable.get_item\u001b[1;34m()\u001b[0m\n",
      "\u001b[1;31mKeyError\u001b[0m: 'DESCRIPCIÓN'"
     ]
    }
   ],
   "source": [
    "datos[\"DESCRIPCIÓN\"].value_counts().plot.bar()"
   ]
  },
  {
   "cell_type": "code",
   "execution_count": null,
   "metadata": {},
   "outputs": [],
   "source": [
    "datos[\"DESCRIPCIÓN\"].value_counts()"
   ]
  },
  {
   "cell_type": "code",
   "execution_count": 93,
   "metadata": {},
   "outputs": [
    {
     "data": {
      "text/html": [
       "<div>\n",
       "<style scoped>\n",
       "    .dataframe tbody tr th:only-of-type {\n",
       "        vertical-align: middle;\n",
       "    }\n",
       "\n",
       "    .dataframe tbody tr th {\n",
       "        vertical-align: top;\n",
       "    }\n",
       "\n",
       "    .dataframe thead th {\n",
       "        text-align: right;\n",
       "    }\n",
       "</style>\n",
       "<table border=\"1\" class=\"dataframe\">\n",
       "  <thead>\n",
       "    <tr style=\"text-align: right;\">\n",
       "      <th></th>\n",
       "      <th>NOMBRE DE VARIABLE</th>\n",
       "      <th>DESCRIPCIÓN DE VARIABLE</th>\n",
       "      <th>FORMATO O FUENTE</th>\n",
       "    </tr>\n",
       "    <tr>\n",
       "      <th>Nº</th>\n",
       "      <th></th>\n",
       "      <th></th>\n",
       "      <th></th>\n",
       "    </tr>\n",
       "  </thead>\n",
       "  <tbody>\n",
       "    <tr>\n",
       "      <th>1</th>\n",
       "      <td>FECHA_ACTUALIZACION</td>\n",
       "      <td>La base de datos se alimenta diariamente, esta...</td>\n",
       "      <td>AAAA-MM-DD</td>\n",
       "    </tr>\n",
       "    <tr>\n",
       "      <th>2</th>\n",
       "      <td>ID_REGISTRO</td>\n",
       "      <td>Número identificador del caso</td>\n",
       "      <td>TEXTO</td>\n",
       "    </tr>\n",
       "    <tr>\n",
       "      <th>3</th>\n",
       "      <td>ORIGEN</td>\n",
       "      <td>La vigilancia centinela se realiza a través de...</td>\n",
       "      <td>CATÁLOGO: ORIGEN                              ...</td>\n",
       "    </tr>\n",
       "    <tr>\n",
       "      <th>4</th>\n",
       "      <td>SECTOR</td>\n",
       "      <td>Identifica el tipo de institución del Sistema ...</td>\n",
       "      <td>CATÁLOGO: SECTOR                              ...</td>\n",
       "    </tr>\n",
       "    <tr>\n",
       "      <th>5</th>\n",
       "      <td>ENTIDAD_UM</td>\n",
       "      <td>Identifica la entidad donde se ubica la unidad...</td>\n",
       "      <td>CATALÓGO: ENTIDADES</td>\n",
       "    </tr>\n",
       "    <tr>\n",
       "      <th>6</th>\n",
       "      <td>SEXO</td>\n",
       "      <td>Identifica al sexo del paciente.</td>\n",
       "      <td>CATÁLOGO: SEXO</td>\n",
       "    </tr>\n",
       "    <tr>\n",
       "      <th>7</th>\n",
       "      <td>ENTIDAD_NAC</td>\n",
       "      <td>Identifica la entidad de nacimiento del paciente.</td>\n",
       "      <td>CATALÓGO: ENTIDADES</td>\n",
       "    </tr>\n",
       "    <tr>\n",
       "      <th>8</th>\n",
       "      <td>ENTIDAD_RES</td>\n",
       "      <td>Identifica la entidad de residencia del paciente.</td>\n",
       "      <td>CATALÓGO: ENTIDADES</td>\n",
       "    </tr>\n",
       "    <tr>\n",
       "      <th>9</th>\n",
       "      <td>MUNICIPIO_RES</td>\n",
       "      <td>Identifica el municipio de residencia del paci...</td>\n",
       "      <td>CATALÓGO: MUNICIPIOS</td>\n",
       "    </tr>\n",
       "    <tr>\n",
       "      <th>10</th>\n",
       "      <td>TIPO_PACIENTE</td>\n",
       "      <td>Identifica el tipo de atención que recibió el ...</td>\n",
       "      <td>CATÁLOGO: TIPO_PACIENTE</td>\n",
       "    </tr>\n",
       "    <tr>\n",
       "      <th>11</th>\n",
       "      <td>FECHA_INGRESO</td>\n",
       "      <td>Identifica la fecha de ingreso del paciente a ...</td>\n",
       "      <td>AAAA-MM-DD</td>\n",
       "    </tr>\n",
       "    <tr>\n",
       "      <th>12</th>\n",
       "      <td>FECHA_SINTOMAS</td>\n",
       "      <td>Idenitifica la fecha en que inició la sintomat...</td>\n",
       "      <td>AAAA-MM-DD</td>\n",
       "    </tr>\n",
       "    <tr>\n",
       "      <th>13</th>\n",
       "      <td>FECHA_DEF</td>\n",
       "      <td>Identifica la fecha en que el paciente falleció.</td>\n",
       "      <td>AAAA-MM-DD</td>\n",
       "    </tr>\n",
       "    <tr>\n",
       "      <th>14</th>\n",
       "      <td>INTUBADO</td>\n",
       "      <td>Identifica si el paciente requirió de intubación.</td>\n",
       "      <td>CATÁLOGO: SI_ NO                              ...</td>\n",
       "    </tr>\n",
       "    <tr>\n",
       "      <th>15</th>\n",
       "      <td>NEUMONIA</td>\n",
       "      <td>Identifica si al paciente se le diagnosticó co...</td>\n",
       "      <td>CATÁLOGO: SI_ NO                              ...</td>\n",
       "    </tr>\n",
       "    <tr>\n",
       "      <th>16</th>\n",
       "      <td>EDAD</td>\n",
       "      <td>Identifica la edad del paciente.</td>\n",
       "      <td>NÚMERICA EN AÑOS</td>\n",
       "    </tr>\n",
       "    <tr>\n",
       "      <th>17</th>\n",
       "      <td>NACIONALIDAD</td>\n",
       "      <td>Identifica si el paciente es mexicano o extran...</td>\n",
       "      <td>CATÁLOGO: NACIONALIDAD</td>\n",
       "    </tr>\n",
       "    <tr>\n",
       "      <th>18</th>\n",
       "      <td>EMBARAZO</td>\n",
       "      <td>Identifica si la paciente está embarazada.</td>\n",
       "      <td>CATÁLOGO: SI_ NO                              ...</td>\n",
       "    </tr>\n",
       "    <tr>\n",
       "      <th>19</th>\n",
       "      <td>HABLA_LENGUA_INDIG</td>\n",
       "      <td>Identifica si el paciente habla lengua índigena.</td>\n",
       "      <td>CATÁLOGO: SI_ NO                              ...</td>\n",
       "    </tr>\n",
       "    <tr>\n",
       "      <th>20</th>\n",
       "      <td>DIABETES</td>\n",
       "      <td>Identifica si el paciente tiene un diagnóstico...</td>\n",
       "      <td>CATÁLOGO: SI_ NO                              ...</td>\n",
       "    </tr>\n",
       "    <tr>\n",
       "      <th>21</th>\n",
       "      <td>EPOC</td>\n",
       "      <td>Identifica si el paciente tiene un diagnóstico...</td>\n",
       "      <td>CATÁLOGO: SI_ NO                              ...</td>\n",
       "    </tr>\n",
       "    <tr>\n",
       "      <th>22</th>\n",
       "      <td>ASMA</td>\n",
       "      <td>Identifica si el paciente tiene un diagnóstico...</td>\n",
       "      <td>CATÁLOGO: SI_ NO                              ...</td>\n",
       "    </tr>\n",
       "    <tr>\n",
       "      <th>23</th>\n",
       "      <td>INMUSUPR</td>\n",
       "      <td>Identifica si el paciente presenta inmunosupre...</td>\n",
       "      <td>CATÁLOGO: SI_ NO                              ...</td>\n",
       "    </tr>\n",
       "    <tr>\n",
       "      <th>24</th>\n",
       "      <td>HIPERTENSION</td>\n",
       "      <td>Identifica si el paciente tiene un diagnóstico...</td>\n",
       "      <td>CATÁLOGO: SI_ NO                              ...</td>\n",
       "    </tr>\n",
       "    <tr>\n",
       "      <th>25</th>\n",
       "      <td>OTRAS_COM</td>\n",
       "      <td>Identifica si el paciente tiene diagnóstico de...</td>\n",
       "      <td>CATÁLOGO: SI_ NO                              ...</td>\n",
       "    </tr>\n",
       "    <tr>\n",
       "      <th>26</th>\n",
       "      <td>CARDIOVASCULAR</td>\n",
       "      <td>Identifica si el paciente tiene un diagnóstico...</td>\n",
       "      <td>CATÁLOGO: SI_ NO                              ...</td>\n",
       "    </tr>\n",
       "    <tr>\n",
       "      <th>27</th>\n",
       "      <td>OBESIDAD</td>\n",
       "      <td>Identifica si el paciente tiene diagnóstico de...</td>\n",
       "      <td>CATÁLOGO: SI_ NO                              ...</td>\n",
       "    </tr>\n",
       "    <tr>\n",
       "      <th>28</th>\n",
       "      <td>RENAL_CRONICA</td>\n",
       "      <td>Identifica si el paciente tiene diagnóstico de...</td>\n",
       "      <td>CATÁLOGO: SI_ NO                              ...</td>\n",
       "    </tr>\n",
       "    <tr>\n",
       "      <th>29</th>\n",
       "      <td>TABAQUISMO</td>\n",
       "      <td>Identifica si el paciente tiene hábito de taba...</td>\n",
       "      <td>CATÁLOGO: SI_ NO                              ...</td>\n",
       "    </tr>\n",
       "    <tr>\n",
       "      <th>30</th>\n",
       "      <td>OTRO_CASO</td>\n",
       "      <td>Identifica si el paciente tuvo contacto con al...</td>\n",
       "      <td>CATÁLOGO: SI_ NO                              ...</td>\n",
       "    </tr>\n",
       "    <tr>\n",
       "      <th>31</th>\n",
       "      <td>RESULTADO</td>\n",
       "      <td>Identifica el resultado del análisis de la mue...</td>\n",
       "      <td>CATÁLOGO: RESULTADO</td>\n",
       "    </tr>\n",
       "    <tr>\n",
       "      <th>32</th>\n",
       "      <td>MIGRANTE</td>\n",
       "      <td>Identifica si el paciente es una persona migra...</td>\n",
       "      <td>CATÁLOGO: SI_ NO                              ...</td>\n",
       "    </tr>\n",
       "    <tr>\n",
       "      <th>33</th>\n",
       "      <td>PAIS_NACIONALIDAD</td>\n",
       "      <td>Identifica la nacionalidad del paciente.</td>\n",
       "      <td>TEXTO, 99= SE IGNORA</td>\n",
       "    </tr>\n",
       "    <tr>\n",
       "      <th>34</th>\n",
       "      <td>PAIS_ORIGEN</td>\n",
       "      <td>Identifica el país del que partió el paciente ...</td>\n",
       "      <td>TEXTO, 97= NO APLICA</td>\n",
       "    </tr>\n",
       "    <tr>\n",
       "      <th>35</th>\n",
       "      <td>UCI</td>\n",
       "      <td>Identifica si el paciente requirió ingresar a ...</td>\n",
       "      <td>CATÁLOGO: SI_ NO                              ...</td>\n",
       "    </tr>\n",
       "  </tbody>\n",
       "</table>\n",
       "</div>"
      ],
      "text/plain": [
       "     NOMBRE DE VARIABLE                            DESCRIPCIÓN DE VARIABLE  \\\n",
       "Nº                                                                           \n",
       "1   FECHA_ACTUALIZACION  La base de datos se alimenta diariamente, esta...   \n",
       "2           ID_REGISTRO                      Número identificador del caso   \n",
       "3                ORIGEN  La vigilancia centinela se realiza a través de...   \n",
       "4                SECTOR  Identifica el tipo de institución del Sistema ...   \n",
       "5            ENTIDAD_UM  Identifica la entidad donde se ubica la unidad...   \n",
       "6                  SEXO                   Identifica al sexo del paciente.   \n",
       "7           ENTIDAD_NAC  Identifica la entidad de nacimiento del paciente.   \n",
       "8           ENTIDAD_RES  Identifica la entidad de residencia del paciente.   \n",
       "9         MUNICIPIO_RES  Identifica el municipio de residencia del paci...   \n",
       "10        TIPO_PACIENTE  Identifica el tipo de atención que recibió el ...   \n",
       "11        FECHA_INGRESO  Identifica la fecha de ingreso del paciente a ...   \n",
       "12       FECHA_SINTOMAS  Idenitifica la fecha en que inició la sintomat...   \n",
       "13            FECHA_DEF   Identifica la fecha en que el paciente falleció.   \n",
       "14             INTUBADO  Identifica si el paciente requirió de intubación.   \n",
       "15             NEUMONIA  Identifica si al paciente se le diagnosticó co...   \n",
       "16                 EDAD                   Identifica la edad del paciente.   \n",
       "17         NACIONALIDAD  Identifica si el paciente es mexicano o extran...   \n",
       "18             EMBARAZO         Identifica si la paciente está embarazada.   \n",
       "19   HABLA_LENGUA_INDIG   Identifica si el paciente habla lengua índigena.   \n",
       "20             DIABETES  Identifica si el paciente tiene un diagnóstico...   \n",
       "21                 EPOC  Identifica si el paciente tiene un diagnóstico...   \n",
       "22                 ASMA  Identifica si el paciente tiene un diagnóstico...   \n",
       "23             INMUSUPR  Identifica si el paciente presenta inmunosupre...   \n",
       "24         HIPERTENSION  Identifica si el paciente tiene un diagnóstico...   \n",
       "25            OTRAS_COM  Identifica si el paciente tiene diagnóstico de...   \n",
       "26       CARDIOVASCULAR  Identifica si el paciente tiene un diagnóstico...   \n",
       "27             OBESIDAD  Identifica si el paciente tiene diagnóstico de...   \n",
       "28        RENAL_CRONICA  Identifica si el paciente tiene diagnóstico de...   \n",
       "29           TABAQUISMO  Identifica si el paciente tiene hábito de taba...   \n",
       "30            OTRO_CASO  Identifica si el paciente tuvo contacto con al...   \n",
       "31            RESULTADO  Identifica el resultado del análisis de la mue...   \n",
       "32             MIGRANTE  Identifica si el paciente es una persona migra...   \n",
       "33    PAIS_NACIONALIDAD           Identifica la nacionalidad del paciente.   \n",
       "34          PAIS_ORIGEN  Identifica el país del que partió el paciente ...   \n",
       "35                  UCI  Identifica si el paciente requirió ingresar a ...   \n",
       "\n",
       "                                     FORMATO O FUENTE  \n",
       "Nº                                                     \n",
       "1                                          AAAA-MM-DD  \n",
       "2                                              TEXTO   \n",
       "3   CATÁLOGO: ORIGEN                              ...  \n",
       "4   CATÁLOGO: SECTOR                              ...  \n",
       "5                                 CATALÓGO: ENTIDADES  \n",
       "6        CATÁLOGO: SEXO                                \n",
       "7                                 CATALÓGO: ENTIDADES  \n",
       "8                                 CATALÓGO: ENTIDADES  \n",
       "9                                CATALÓGO: MUNICIPIOS  \n",
       "10                           CATÁLOGO: TIPO_PACIENTE   \n",
       "11                                         AAAA-MM-DD  \n",
       "12                                         AAAA-MM-DD  \n",
       "13                                         AAAA-MM-DD  \n",
       "14  CATÁLOGO: SI_ NO                              ...  \n",
       "15  CATÁLOGO: SI_ NO                              ...  \n",
       "16                                   NÚMERICA EN AÑOS  \n",
       "17                            CATÁLOGO: NACIONALIDAD   \n",
       "18  CATÁLOGO: SI_ NO                              ...  \n",
       "19  CATÁLOGO: SI_ NO                              ...  \n",
       "20  CATÁLOGO: SI_ NO                              ...  \n",
       "21  CATÁLOGO: SI_ NO                              ...  \n",
       "22  CATÁLOGO: SI_ NO                              ...  \n",
       "23  CATÁLOGO: SI_ NO                              ...  \n",
       "24  CATÁLOGO: SI_ NO                              ...  \n",
       "25  CATÁLOGO: SI_ NO                              ...  \n",
       "26  CATÁLOGO: SI_ NO                              ...  \n",
       "27  CATÁLOGO: SI_ NO                              ...  \n",
       "28  CATÁLOGO: SI_ NO                              ...  \n",
       "29  CATÁLOGO: SI_ NO                              ...  \n",
       "30  CATÁLOGO: SI_ NO                              ...  \n",
       "31                                CATÁLOGO: RESULTADO  \n",
       "32  CATÁLOGO: SI_ NO                              ...  \n",
       "33                               TEXTO, 99= SE IGNORA  \n",
       "34                               TEXTO, 97= NO APLICA  \n",
       "35  CATÁLOGO: SI_ NO                              ...  "
      ]
     },
     "execution_count": 93,
     "metadata": {},
     "output_type": "execute_result"
    }
   ],
   "source": [
    "df_axuliar=pd.read_excel(\"../data/metadatos2020-05-17.xlsx\", index_col=0)\n",
    "df_axuliar"
   ]
  },
  {
   "cell_type": "code",
   "execution_count": null,
   "metadata": {},
   "outputs": [],
   "source": [
    "df_axuliar.str.raplace"
   ]
  },
  {
   "cell_type": "code",
   "execution_count": null,
   "metadata": {},
   "outputs": [],
   "source": []
  },
  {
   "cell_type": "code",
   "execution_count": null,
   "metadata": {},
   "outputs": [],
   "source": []
  },
  {
   "cell_type": "code",
   "execution_count": null,
   "metadata": {},
   "outputs": [],
   "source": []
  },
  {
   "cell_type": "code",
   "execution_count": null,
   "metadata": {},
   "outputs": [],
   "source": []
  },
  {
   "cell_type": "code",
   "execution_count": null,
   "metadata": {},
   "outputs": [],
   "source": []
  },
  {
   "cell_type": "code",
   "execution_count": null,
   "metadata": {},
   "outputs": [],
   "source": []
  },
  {
   "cell_type": "code",
   "execution_count": null,
   "metadata": {},
   "outputs": [],
   "source": []
  },
  {
   "cell_type": "code",
   "execution_count": null,
   "metadata": {},
   "outputs": [],
   "source": []
  },
  {
   "cell_type": "code",
   "execution_count": null,
   "metadata": {},
   "outputs": [],
   "source": []
  },
  {
   "cell_type": "code",
   "execution_count": null,
   "metadata": {},
   "outputs": [],
   "source": []
  },
  {
   "cell_type": "code",
   "execution_count": null,
   "metadata": {},
   "outputs": [],
   "source": []
  }
 ],
 "metadata": {
  "kernelspec": {
   "display_name": "Python 3",
   "language": "python",
   "name": "python3"
  },
  "language_info": {
   "codemirror_mode": {
    "name": "ipython",
    "version": 3
   },
   "file_extension": ".py",
   "mimetype": "text/x-python",
   "name": "python",
   "nbconvert_exporter": "python",
   "pygments_lexer": "ipython3",
   "version": "3.7.6"
  }
 },
 "nbformat": 4,
 "nbformat_minor": 4
}
